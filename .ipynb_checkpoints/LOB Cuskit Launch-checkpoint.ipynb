{
 "cells": [
  {
   "cell_type": "markdown",
   "id": "d29dc957",
   "metadata": {},
   "source": [
    "## LOB Cuskit Launches"
   ]
  },
  {
   "cell_type": "markdown",
   "id": "e68ca852",
   "metadata": {},
   "source": [
    "__LOB Cuskit Launch Dataset__"
   ]
  },
  {
   "cell_type": "code",
   "execution_count": 1,
   "id": "eee388b5",
   "metadata": {},
   "outputs": [
    {
     "data": {
      "text/html": [
       "<div>\n",
       "<style scoped>\n",
       "    .dataframe tbody tr th:only-of-type {\n",
       "        vertical-align: middle;\n",
       "    }\n",
       "\n",
       "    .dataframe tbody tr th {\n",
       "        vertical-align: top;\n",
       "    }\n",
       "\n",
       "    .dataframe thead th {\n",
       "        text-align: right;\n",
       "    }\n",
       "</style>\n",
       "<table border=\"1\" class=\"dataframe\">\n",
       "  <thead>\n",
       "    <tr style=\"text-align: right;\">\n",
       "      <th></th>\n",
       "      <th>Region</th>\n",
       "      <th>Year</th>\n",
       "      <th>Fiscal_Month</th>\n",
       "      <th>Total Launch</th>\n",
       "      <th>Launch Fluctuation</th>\n",
       "      <th>%</th>\n",
       "    </tr>\n",
       "  </thead>\n",
       "  <tbody>\n",
       "    <tr>\n",
       "      <th>0</th>\n",
       "      <td>AMER</td>\n",
       "      <td>2020</td>\n",
       "      <td>FY21Q1</td>\n",
       "      <td>13</td>\n",
       "      <td>5</td>\n",
       "      <td>38.46%</td>\n",
       "    </tr>\n",
       "    <tr>\n",
       "      <th>1</th>\n",
       "      <td>AMER</td>\n",
       "      <td>2020</td>\n",
       "      <td>FY21Q2</td>\n",
       "      <td>53</td>\n",
       "      <td>22</td>\n",
       "      <td>41.51%</td>\n",
       "    </tr>\n",
       "    <tr>\n",
       "      <th>2</th>\n",
       "      <td>AMER</td>\n",
       "      <td>2020</td>\n",
       "      <td>FY21Q3</td>\n",
       "      <td>20</td>\n",
       "      <td>15</td>\n",
       "      <td>75.00%</td>\n",
       "    </tr>\n",
       "    <tr>\n",
       "      <th>3</th>\n",
       "      <td>AMER</td>\n",
       "      <td>2020</td>\n",
       "      <td>FY21Q4</td>\n",
       "      <td>14</td>\n",
       "      <td>5</td>\n",
       "      <td>35.71%</td>\n",
       "    </tr>\n",
       "    <tr>\n",
       "      <th>4</th>\n",
       "      <td>APJ</td>\n",
       "      <td>2020</td>\n",
       "      <td>FY21Q1</td>\n",
       "      <td>15</td>\n",
       "      <td>11</td>\n",
       "      <td>73.33%</td>\n",
       "    </tr>\n",
       "  </tbody>\n",
       "</table>\n",
       "</div>"
      ],
      "text/plain": [
       "  Region  Year Fiscal_Month  Total Launch  Launch Fluctuation       %\n",
       "0   AMER  2020       FY21Q1            13                   5  38.46%\n",
       "1   AMER  2020       FY21Q2            53                  22  41.51%\n",
       "2   AMER  2020       FY21Q3            20                  15  75.00%\n",
       "3   AMER  2020       FY21Q4            14                   5  35.71%\n",
       "4    APJ  2020       FY21Q1            15                  11  73.33%"
      ]
     },
     "execution_count": 1,
     "metadata": {},
     "output_type": "execute_result"
    }
   ],
   "source": [
    "import pandas as pd\n",
    "import numpy as np\n",
    "import matplotlib.pyplot as plt\n",
    "\n",
    "lob = pd.read_csv(\"data/LOB Cuskit Launches.csv\", header=0)\n",
    "lob.head()"
   ]
  },
  {
   "cell_type": "code",
   "execution_count": 2,
   "id": "2af61e64",
   "metadata": {},
   "outputs": [
    {
     "data": {
      "text/html": [
       "<div>\n",
       "<style scoped>\n",
       "    .dataframe tbody tr th:only-of-type {\n",
       "        vertical-align: middle;\n",
       "    }\n",
       "\n",
       "    .dataframe tbody tr th {\n",
       "        vertical-align: top;\n",
       "    }\n",
       "\n",
       "    .dataframe thead th {\n",
       "        text-align: right;\n",
       "    }\n",
       "</style>\n",
       "<table border=\"1\" class=\"dataframe\">\n",
       "  <thead>\n",
       "    <tr style=\"text-align: right;\">\n",
       "      <th></th>\n",
       "      <th>Fiscal_Month</th>\n",
       "      <th>TotalL</th>\n",
       "      <th>FluctuateL</th>\n",
       "    </tr>\n",
       "  </thead>\n",
       "  <tbody>\n",
       "    <tr>\n",
       "      <th>0</th>\n",
       "      <td>FY21Q1</td>\n",
       "      <td>42</td>\n",
       "      <td>26</td>\n",
       "    </tr>\n",
       "    <tr>\n",
       "      <th>1</th>\n",
       "      <td>FY21Q2</td>\n",
       "      <td>164</td>\n",
       "      <td>98</td>\n",
       "    </tr>\n",
       "    <tr>\n",
       "      <th>2</th>\n",
       "      <td>FY21Q3</td>\n",
       "      <td>65</td>\n",
       "      <td>35</td>\n",
       "    </tr>\n",
       "    <tr>\n",
       "      <th>3</th>\n",
       "      <td>FY21Q4</td>\n",
       "      <td>43</td>\n",
       "      <td>19</td>\n",
       "    </tr>\n",
       "    <tr>\n",
       "      <th>4</th>\n",
       "      <td>FY22Q1</td>\n",
       "      <td>74</td>\n",
       "      <td>33</td>\n",
       "    </tr>\n",
       "    <tr>\n",
       "      <th>5</th>\n",
       "      <td>FY22Q2</td>\n",
       "      <td>106</td>\n",
       "      <td>18</td>\n",
       "    </tr>\n",
       "    <tr>\n",
       "      <th>6</th>\n",
       "      <td>FY22Q3</td>\n",
       "      <td>17</td>\n",
       "      <td>9</td>\n",
       "    </tr>\n",
       "    <tr>\n",
       "      <th>7</th>\n",
       "      <td>FY22Q4</td>\n",
       "      <td>25</td>\n",
       "      <td>0</td>\n",
       "    </tr>\n",
       "    <tr>\n",
       "      <th>8</th>\n",
       "      <td>FY23Q1</td>\n",
       "      <td>98</td>\n",
       "      <td>42</td>\n",
       "    </tr>\n",
       "    <tr>\n",
       "      <th>9</th>\n",
       "      <td>FY23Q2</td>\n",
       "      <td>11</td>\n",
       "      <td>0</td>\n",
       "    </tr>\n",
       "    <tr>\n",
       "      <th>10</th>\n",
       "      <td>FY23Q3</td>\n",
       "      <td>10</td>\n",
       "      <td>0</td>\n",
       "    </tr>\n",
       "    <tr>\n",
       "      <th>11</th>\n",
       "      <td>FY23Q4</td>\n",
       "      <td>1</td>\n",
       "      <td>0</td>\n",
       "    </tr>\n",
       "  </tbody>\n",
       "</table>\n",
       "</div>"
      ],
      "text/plain": [
       "   Fiscal_Month  TotalL  FluctuateL\n",
       "0        FY21Q1      42          26\n",
       "1        FY21Q2     164          98\n",
       "2        FY21Q3      65          35\n",
       "3        FY21Q4      43          19\n",
       "4        FY22Q1      74          33\n",
       "5        FY22Q2     106          18\n",
       "6        FY22Q3      17           9\n",
       "7        FY22Q4      25           0\n",
       "8        FY23Q1      98          42\n",
       "9        FY23Q2      11           0\n",
       "10       FY23Q3      10           0\n",
       "11       FY23Q4       1           0"
      ]
     },
     "execution_count": 2,
     "metadata": {},
     "output_type": "execute_result"
    }
   ],
   "source": [
    "groupLOB = lob.groupby([(lob.Fiscal_Month)]).agg(\n",
    "    TotalL = ('Total Launch','sum'),\n",
    "    FluctuateL = ('Launch Fluctuation','sum'),).reset_index()\n",
    "groupLOB"
   ]
  },
  {
   "cell_type": "code",
   "execution_count": 3,
   "id": "85581030",
   "metadata": {},
   "outputs": [
    {
     "data": {
      "image/png": "[encoded data removed]",
      "text/plain": [
       "<Figure size 432x288 with 1 Axes>"
      ]
     },
     "metadata": {
      "needs_background": "light"
     },
     "output_type": "display_data"
    }
   ],
   "source": [
    "groupLOB.plot()\n",
    "plt.show()"
   ]
  },
  {
   "cell_type": "code",
   "execution_count": 4,
   "id": "be2898af",
   "metadata": {},
   "outputs": [
    {
     "data": {
      "image/png": "[encoded data removed]",
      "text/plain": [
       "<Figure size 720x576 with 1 Axes>"
      ]
     },
     "metadata": {
      "needs_background": "light"
     },
     "output_type": "display_data"
    }
   ],
   "source": [
    "# set width of bars\n",
    "w = 0.5\n",
    "\n",
    "# Figure Size\n",
    "fig = plt.figure(figsize =(10, 8))\n",
    "\n",
    "# Define x-axis\n",
    "quarter = groupLOB['Fiscal_Month']\n",
    "\n",
    "# Define y-axis\n",
    "TotalL = groupLOB['TotalL']\n",
    "FluctuateL = groupLOB['FluctuateL']\n",
    "\n",
    "# Make the plot\n",
    "plt.bar(quarter, TotalL, 0.4, color='#89CFF0', label='Total Launch')\n",
    "plt.bar(quarter, FluctuateL, 0.4, color='#00FFFF', label='Launch Fluctuation')\n",
    "\n",
    "# Add xticks on the middle of the group bars\n",
    "plt.xlabel('Year')\n",
    "plt.ylabel('Launches')\n",
    "plt.title(\"Total vs Fluctuated Launches\", fontweight='bold')\n",
    "plt.xticks(quarter)\n",
    " \n",
    "# Create legend & Show graphic\n",
    "plt.legend(loc='upper right')\n",
    "plt.show()"
   ]
  }
 ],
 "metadata": {
  "kernelspec": {
   "display_name": "Python 3 (ipykernel)",
   "language": "python",
   "name": "python3"
  },
  "language_info": {
   "codemirror_mode": {
    "name": "ipython",
    "version": 3
   },
   "file_extension": ".py",
   "mimetype": "text/x-python",
   "name": "python",
   "nbconvert_exporter": "python",
   "pygments_lexer": "ipython3",
   "version": "3.9.7"
  }
 },
 "nbformat": 4,
 "nbformat_minor": 5
}
