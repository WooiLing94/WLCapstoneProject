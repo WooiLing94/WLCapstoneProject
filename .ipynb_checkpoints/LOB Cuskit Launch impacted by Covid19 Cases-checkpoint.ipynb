{
 "cells": [
  {
   "cell_type": "markdown",
   "id": "d29dc957",
   "metadata": {},
   "source": [
    "## LOB Cuskit Launch impacted by Covid-19 Cases"
   ]
  },
  {
   "cell_type": "markdown",
   "id": "b8fc7d98",
   "metadata": {},
   "source": [
    "__Covid-19 Dataset Source:__ https://ourworldindata.org/covid-cases"
   ]
  },
  {
   "cell_type": "code",
   "execution_count": 1,
   "id": "245db375",
   "metadata": {},
   "outputs": [],
   "source": [
    "import pandas as pd\n",
    "import numpy as np\n",
    "import re\n",
    "import matplotlib.pyplot as plt\n",
    "import math\n",
    "\n",
    "df = pd.read_csv('data/owid-covid-data.csv')"
   ]
  },
  {
   "cell_type": "code",
   "execution_count": 2,
   "id": "f7b16d5b",
   "metadata": {},
   "outputs": [],
   "source": [
    "#Removing unnecessary columns \n",
    "df.drop(['total_cases','new_cases_smoothed','total_deaths','new_deaths_smoothed','total_cases_per_million','new_cases_per_million','new_cases_smoothed_per_million','total_deaths_per_million','new_deaths_per_million','new_deaths_smoothed_per_million','icu_patients_per_million','hosp_patients_per_million','weekly_icu_admissions','weekly_icu_admissions_per_million','weekly_hosp_admissions','weekly_hosp_admissions_per_million','total_tests','new_tests','total_tests_per_thousand','new_tests_per_thousand','new_tests_smoothed','new_tests_smoothed_per_thousand','tests_per_case','tests_units','total_vaccinations','new_vaccinations','new_vaccinations_smoothed','total_vaccinations_per_hundred','people_vaccinated_per_hundred','people_fully_vaccinated_per_hundred','total_boosters_per_hundred','new_vaccinations_smoothed_per_million','new_people_vaccinated_smoothed','new_people_vaccinated_smoothed_per_hundred','stringency_index','median_age','aged_65_older','aged_70_older','gdp_per_capita','cardiovasc_death_rate','diabetes_prevalence','female_smokers','male_smokers','handwashing_facilities','hospital_beds_per_thousand','life_expectancy','human_development_index','excess_mortality_cumulative_absolute','excess_mortality_cumulative','excess_mortality','excess_mortality_cumulative_per_million','iso_code','continent','positive_rate','reproduction_rate','people_vaccinated','total_boosters','population','population_density'], axis = 1, inplace = True)\n",
    "\n",
    "#Defining unnecessary rows\n",
    "removedRows = [\"Africa\",\"Albania\",\"Algeria\",\"Andorra\",\"Angola\",\"Anguilla\",\"Antigua and Barbuda\",\"Aruba\",\"Asia\",\"Azerbaijan\",\"Bahamas\",\"Bahrain\",\"Barbados\",\"Belize\",\"Benin\",\"Bermuda\",\"Bolivia\",\"Bonaire Sint Eustatius and Saba\",\"Bosnia and Herzegovina\",\"Botswana\",\"British Virgin Islands\",\"Bulgaria\",\"Burkina Faso\",\"Burundi\",\"Cameroon\",\"Cape Verde\",\"Cayman Islands\",\"Central African Republic\",\"Chad\",\"Comoros\",\"Congo\",\"Costa Rica\",\"Cote d'Ivoire\",\"Croatia\",\"Cuba\",\"Curacao\",\"Cyprus\",\"Democratic Republic of Congo\",\"Djibouti\",\"Dominica\",\"Dominican Republic\",\"Ecuador\",\"Egypt\",\"El Salvador\",\"Equatorial Guinea\",\"Eritrea\",\"Estonia\",\"Eswatini\",\"Ethiopia\",\"Europe\",\"European Union\",\"Faeroe Islands\",\"Falkland Islands\",\"French Polynesia\",\"Gabon\",\"Gambia\",\"Georgia\",\"Ghana\",\"Gibraltar\",\"Greenland\",\"Grenada\",\"Guatemala\",\"Guernsey\",\"Guinea\",\"Guinea-Bissau\",\"Guyana\",\"Haiti\",\"High income\",\"Honduras\",\"Iceland\",\"International\",\"Iran\",\"Iraq\",\"Isle of Man\",\"Israel\",\"Jamaica\",\"Jersey\",\"Jordan\",\"Kenya\",\"Kosovo\",\"Kuwait\",\"Latvia\",\"Lebanon\",\"Lesotho\",\"Liberia\",\"Libya\",\"Liechtenstein\",\"Lithuania\",\"Low income\",\"Lower middle income\",\"Macao\",\"Madagascar\",\"Malawi\",\"Mali\",\"Malta\",\"Marshall Islands\",\"Mauritania\",\"Mauritius\",\"Micronesia (country)\",\"Monaco\",\"Montenegro\",\"Montserrat\",\"Morocco\",\"Mozambique\",\"Namibia\",\"New Caledonia\",\"Nicaragua\",\"Niger\",\"Nigeria\",\"Niue\",\"North America\",\"North Macedonia\",\"Northern Cyprus\",\"Oceania\",\"Oman\",\"Palestine\",\"Panama\",\"Paraguay\",\"Pitcairn\",\"Qatar\",\"Romania\",\"Rwanda\",\"Saint Helena\",\"Saint Kitts and Nevis\",\"Saint Lucia\",\"Saint Pierre and Miquelon\",\"Saint Vincent and the Grenadines\",\"San Marino\",\"Sao Tome and Principe\",\"Saudi Arabia\",\"Senegal\",\"Serbia\",\"Seychelles\",\"Sierra Leone\",\"Sint Maarten (Dutch part)\",\"Slovenia\",\"Somalia\",\"South America\",\"South Sudan\",\"Sudan\",\"Suriname\",\"Syria\",\"Tanzania\",\"Togo\",\"Tokelau\",\"Trinidad and Tobago\",\"Tunisia\",\"Turkmenistan\",\"Turks and Caicos Islands\",\"Uganda\",\"Ukraine\",\"United Arab Emirates\",\"Upper middle income\",\"Uruguay\",\"Uzbekistan\",\"Vatican\",\"Wallis and Futuna\",\"World\",\"Yemen\",\"Zambia\",\"Zimbabwe\"]"
   ]
  },
  {
   "cell_type": "code",
   "execution_count": 3,
   "id": "de42c6ae",
   "metadata": {},
   "outputs": [
    {
     "data": {
      "text/html": [
       "<div>\n",
       "<style scoped>\n",
       "    .dataframe tbody tr th:only-of-type {\n",
       "        vertical-align: middle;\n",
       "    }\n",
       "\n",
       "    .dataframe tbody tr th {\n",
       "        vertical-align: top;\n",
       "    }\n",
       "\n",
       "    .dataframe thead th {\n",
       "        text-align: right;\n",
       "    }\n",
       "</style>\n",
       "<table border=\"1\" class=\"dataframe\">\n",
       "  <thead>\n",
       "    <tr style=\"text-align: right;\">\n",
       "      <th></th>\n",
       "      <th>Region</th>\n",
       "      <th>location</th>\n",
       "      <th>date</th>\n",
       "      <th>new_cases</th>\n",
       "      <th>new_deaths</th>\n",
       "      <th>icu_patients</th>\n",
       "      <th>hosp_patients</th>\n",
       "      <th>people_fully_vaccinated</th>\n",
       "      <th>extreme_poverty</th>\n",
       "    </tr>\n",
       "  </thead>\n",
       "  <tbody>\n",
       "    <tr>\n",
       "      <th>0</th>\n",
       "      <td>APJ</td>\n",
       "      <td>Afghanistan</td>\n",
       "      <td>2020-02-24</td>\n",
       "      <td>5.0</td>\n",
       "      <td>NaN</td>\n",
       "      <td>NaN</td>\n",
       "      <td>NaN</td>\n",
       "      <td>NaN</td>\n",
       "      <td>NaN</td>\n",
       "    </tr>\n",
       "    <tr>\n",
       "      <th>1</th>\n",
       "      <td>APJ</td>\n",
       "      <td>Afghanistan</td>\n",
       "      <td>2020-02-25</td>\n",
       "      <td>0.0</td>\n",
       "      <td>NaN</td>\n",
       "      <td>NaN</td>\n",
       "      <td>NaN</td>\n",
       "      <td>NaN</td>\n",
       "      <td>NaN</td>\n",
       "    </tr>\n",
       "    <tr>\n",
       "      <th>2</th>\n",
       "      <td>APJ</td>\n",
       "      <td>Afghanistan</td>\n",
       "      <td>2020-02-26</td>\n",
       "      <td>0.0</td>\n",
       "      <td>NaN</td>\n",
       "      <td>NaN</td>\n",
       "      <td>NaN</td>\n",
       "      <td>NaN</td>\n",
       "      <td>NaN</td>\n",
       "    </tr>\n",
       "    <tr>\n",
       "      <th>3</th>\n",
       "      <td>APJ</td>\n",
       "      <td>Afghanistan</td>\n",
       "      <td>2020-02-27</td>\n",
       "      <td>0.0</td>\n",
       "      <td>NaN</td>\n",
       "      <td>NaN</td>\n",
       "      <td>NaN</td>\n",
       "      <td>NaN</td>\n",
       "      <td>NaN</td>\n",
       "    </tr>\n",
       "    <tr>\n",
       "      <th>4</th>\n",
       "      <td>APJ</td>\n",
       "      <td>Afghanistan</td>\n",
       "      <td>2020-02-28</td>\n",
       "      <td>0.0</td>\n",
       "      <td>NaN</td>\n",
       "      <td>NaN</td>\n",
       "      <td>NaN</td>\n",
       "      <td>NaN</td>\n",
       "      <td>NaN</td>\n",
       "    </tr>\n",
       "    <tr>\n",
       "      <th>...</th>\n",
       "      <td>...</td>\n",
       "      <td>...</td>\n",
       "      <td>...</td>\n",
       "      <td>...</td>\n",
       "      <td>...</td>\n",
       "      <td>...</td>\n",
       "      <td>...</td>\n",
       "      <td>...</td>\n",
       "      <td>...</td>\n",
       "    </tr>\n",
       "    <tr>\n",
       "      <th>176216</th>\n",
       "      <td>EMEA</td>\n",
       "      <td>Zimbabwe</td>\n",
       "      <td>2022-03-30</td>\n",
       "      <td>140.0</td>\n",
       "      <td>1.0</td>\n",
       "      <td>NaN</td>\n",
       "      <td>NaN</td>\n",
       "      <td>3522062.0</td>\n",
       "      <td>21.4</td>\n",
       "    </tr>\n",
       "    <tr>\n",
       "      <th>176217</th>\n",
       "      <td>EMEA</td>\n",
       "      <td>Zimbabwe</td>\n",
       "      <td>2022-03-31</td>\n",
       "      <td>104.0</td>\n",
       "      <td>4.0</td>\n",
       "      <td>NaN</td>\n",
       "      <td>NaN</td>\n",
       "      <td>3532708.0</td>\n",
       "      <td>21.4</td>\n",
       "    </tr>\n",
       "    <tr>\n",
       "      <th>176218</th>\n",
       "      <td>EMEA</td>\n",
       "      <td>Zimbabwe</td>\n",
       "      <td>2022-04-01</td>\n",
       "      <td>128.0</td>\n",
       "      <td>0.0</td>\n",
       "      <td>NaN</td>\n",
       "      <td>NaN</td>\n",
       "      <td>3543725.0</td>\n",
       "      <td>21.4</td>\n",
       "    </tr>\n",
       "    <tr>\n",
       "      <th>176219</th>\n",
       "      <td>EMEA</td>\n",
       "      <td>Zimbabwe</td>\n",
       "      <td>2022-04-02</td>\n",
       "      <td>67.0</td>\n",
       "      <td>2.0</td>\n",
       "      <td>NaN</td>\n",
       "      <td>NaN</td>\n",
       "      <td>3553083.0</td>\n",
       "      <td>21.4</td>\n",
       "    </tr>\n",
       "    <tr>\n",
       "      <th>176220</th>\n",
       "      <td>EMEA</td>\n",
       "      <td>Zimbabwe</td>\n",
       "      <td>2022-04-03</td>\n",
       "      <td>44.0</td>\n",
       "      <td>0.0</td>\n",
       "      <td>NaN</td>\n",
       "      <td>NaN</td>\n",
       "      <td>3561400.0</td>\n",
       "      <td>21.4</td>\n",
       "    </tr>\n",
       "  </tbody>\n",
       "</table>\n",
       "<p>176221 rows × 9 columns</p>\n",
       "</div>"
      ],
      "text/plain": [
       "       Region     location        date  new_cases  new_deaths  icu_patients  \\\n",
       "0         APJ  Afghanistan  2020-02-24        5.0         NaN           NaN   \n",
       "1         APJ  Afghanistan  2020-02-25        0.0         NaN           NaN   \n",
       "2         APJ  Afghanistan  2020-02-26        0.0         NaN           NaN   \n",
       "3         APJ  Afghanistan  2020-02-27        0.0         NaN           NaN   \n",
       "4         APJ  Afghanistan  2020-02-28        0.0         NaN           NaN   \n",
       "...       ...          ...         ...        ...         ...           ...   \n",
       "176216   EMEA     Zimbabwe  2022-03-30      140.0         1.0           NaN   \n",
       "176217   EMEA     Zimbabwe  2022-03-31      104.0         4.0           NaN   \n",
       "176218   EMEA     Zimbabwe  2022-04-01      128.0         0.0           NaN   \n",
       "176219   EMEA     Zimbabwe  2022-04-02       67.0         2.0           NaN   \n",
       "176220   EMEA     Zimbabwe  2022-04-03       44.0         0.0           NaN   \n",
       "\n",
       "        hosp_patients  people_fully_vaccinated  extreme_poverty  \n",
       "0                 NaN                      NaN              NaN  \n",
       "1                 NaN                      NaN              NaN  \n",
       "2                 NaN                      NaN              NaN  \n",
       "3                 NaN                      NaN              NaN  \n",
       "4                 NaN                      NaN              NaN  \n",
       "...               ...                      ...              ...  \n",
       "176216            NaN                3522062.0             21.4  \n",
       "176217            NaN                3532708.0             21.4  \n",
       "176218            NaN                3543725.0             21.4  \n",
       "176219            NaN                3553083.0             21.4  \n",
       "176220            NaN                3561400.0             21.4  \n",
       "\n",
       "[176221 rows x 9 columns]"
      ]
     },
     "execution_count": 3,
     "metadata": {},
     "output_type": "execute_result"
    }
   ],
   "source": [
    "region = []\n",
    "\n",
    "for row in df['location']:\n",
    "    if row == 'Afghanistan':region.append('APJ') #APJ 1\n",
    "    elif row == 'Australia':region.append('APJ') # APJ 2\n",
    "    elif row == 'Bangladesh':region.append('APJ') # APJ 3\n",
    "    elif row == 'Bhutan':region.append('APJ') #APJ 4\n",
    "    elif row == 'Brunei':region.append('APJ') #APJ 5\n",
    "    elif row == 'Cambodia':region.append('APJ') #APJ 6\n",
    "    elif row == 'China':region.append('APJ') #APJ 7\n",
    "    elif row == 'Cook Islands':region.append('APJ') #APJ 8\n",
    "    elif row == 'Fiji':region.append('APJ') #APJ 9\n",
    "    elif row == 'Hong Kong':region.append('APJ') #APJ 10\n",
    "    elif row == 'India':region.append('APJ') #APJ 11\n",
    "    elif row == 'Indonesia':region.append('APJ') #APJ 12\n",
    "    elif row == 'Japan':region.append('APJ') #APJ 13\n",
    "    elif row == 'Kiribati':region.append('APJ') #APJ 14\n",
    "    elif row == 'Laos':region.append('APJ') #APJ 15\n",
    "    elif row == 'Malaysia':region.append('APJ') #APJ 16\n",
    "    elif row == 'Maldives':region.append('APJ') #APJ 17\n",
    "    elif row == 'Mongolia':region.append('APJ') #APJ 18\n",
    "    elif row == 'Myanmar':region.append('APJ') #APJ 19\n",
    "    elif row == 'Nauru':region.append('APJ') #APJ 20\n",
    "    elif row == 'Nepal':region.append('APJ') #APJ 21\n",
    "    elif row == 'New Zealand':region.append('APJ') #APJ 22\n",
    "    elif row == 'Pakistan':region.append('APJ') #APJ 23\n",
    "    elif row == 'Palau':region.append('APJ') #APJ 24\n",
    "    elif row == 'Papua New Guinea':region.append('APJ') #APJ 25\n",
    "    elif row == 'Philippines':region.append('APJ') #APJ 26\n",
    "    elif row == 'Samoa':region.append('APJ') #APJ 27\n",
    "    elif row == 'Singapore':region.append('APJ') #APJ 28\n",
    "    elif row == 'Solomon Islands':region.append('APJ') #APJ 29\n",
    "    elif row == 'South Korea':region.append('APJ') #APJ 30\n",
    "    elif row == 'Sri Lanka':region.append('APJ') #APJ 31\n",
    "    elif row == 'Taiwan':region.append('APJ') #APJ 32\n",
    "    elif row == 'Thailand':region.append('APJ') #APJ 33\n",
    "    elif row == 'Timor':region.append('APJ') #APJ 34\n",
    "    elif row == 'Tonga':region.append('APJ') #APJ 35\n",
    "    elif row == 'Tuvalu':region.append('APJ') #APJ 36\n",
    "    elif row == 'Vanuatu':region.append('APJ') #APJ 37\n",
    "    elif row == 'Vietnam':region.append('APJ') #APJ 38\n",
    "    elif row == 'Argentina':region.append('AMER') #AMER 1\n",
    "    elif row == 'Brazil':region.append('AMER') #AMER 2\n",
    "    elif row == 'Canada':region.append('AMER') #AMER 3\n",
    "    elif row == 'Chile':region.append('AMER') #AMER 4\n",
    "    elif row == 'Colombia':region.append('AMER') #AMER 5\n",
    "    elif row == 'Mexico':region.append('AMER') #AMER 6\n",
    "    elif row == 'Peru':region.append('AMER') #AMER 7\n",
    "    elif row == 'United States':region.append('AMER') #AMER 8\n",
    "    elif row == 'Venezuela':region.append('AMER') #AMER 9\n",
    "    else: region.append('EMEA')\n",
    "    \n",
    "\n",
    "df['Region'] = region\n",
    "first_column = df.pop('Region')\n",
    "df.insert(0, 'Region', first_column)\n",
    "df"
   ]
  },
  {
   "cell_type": "code",
   "execution_count": 4,
   "id": "4aaaaac4",
   "metadata": {},
   "outputs": [],
   "source": [
    "# Removing unnecessary rows\n",
    "df = df[df.location.isin(removedRows) == False]\n",
    "\n",
    "# Replacing null value to zero\n",
    "df = df.replace(np.nan, 0)\n",
    "\n",
    "#Removing 0 value rows\n",
    "df = df.loc[(df == 0).any(axis=1)]"
   ]
  },
  {
   "cell_type": "code",
   "execution_count": 5,
   "id": "1f075241",
   "metadata": {},
   "outputs": [],
   "source": [
    "# Converting Date column into Datetime format\n",
    "from datetime import datetime\n",
    "df['date'] = pd.to_datetime(df['date'])\n",
    "\n",
    "# Renaming column name\n",
    "df.rename(columns = {'location':'Location', 'date':'Year'}, inplace = True)"
   ]
  },
  {
   "cell_type": "code",
   "execution_count": 6,
   "id": "8c0f5e65",
   "metadata": {},
   "outputs": [
    {
     "data": {
      "text/html": [
       "<div>\n",
       "<style scoped>\n",
       "    .dataframe tbody tr th:only-of-type {\n",
       "        vertical-align: middle;\n",
       "    }\n",
       "\n",
       "    .dataframe tbody tr th {\n",
       "        vertical-align: top;\n",
       "    }\n",
       "\n",
       "    .dataframe thead th {\n",
       "        text-align: right;\n",
       "    }\n",
       "</style>\n",
       "<table border=\"1\" class=\"dataframe\">\n",
       "  <thead>\n",
       "    <tr style=\"text-align: right;\">\n",
       "      <th></th>\n",
       "      <th>Year</th>\n",
       "      <th>New_Cases</th>\n",
       "      <th>New_Deaths</th>\n",
       "      <th>ICU_Patients</th>\n",
       "      <th>Hosp_Patients</th>\n",
       "      <th>People_Fully_Vaccinated</th>\n",
       "      <th>Extreme_Poverty</th>\n",
       "    </tr>\n",
       "  </thead>\n",
       "  <tbody>\n",
       "    <tr>\n",
       "      <th>0</th>\n",
       "      <td>2020</td>\n",
       "      <td>68075683.0</td>\n",
       "      <td>1585561.0</td>\n",
       "      <td>5481589.0</td>\n",
       "      <td>26189180.0</td>\n",
       "      <td>2.534000e+03</td>\n",
       "      <td>58706.2</td>\n",
       "    </tr>\n",
       "    <tr>\n",
       "      <th>1</th>\n",
       "      <td>2021</td>\n",
       "      <td>116365073.0</td>\n",
       "      <td>2290268.0</td>\n",
       "      <td>5093171.0</td>\n",
       "      <td>17463957.0</td>\n",
       "      <td>2.010295e+11</td>\n",
       "      <td>78395.5</td>\n",
       "    </tr>\n",
       "    <tr>\n",
       "      <th>2</th>\n",
       "      <td>2022</td>\n",
       "      <td>125486365.0</td>\n",
       "      <td>388536.0</td>\n",
       "      <td>1002177.0</td>\n",
       "      <td>6051090.0</td>\n",
       "      <td>1.823362e+11</td>\n",
       "      <td>19755.3</td>\n",
       "    </tr>\n",
       "  </tbody>\n",
       "</table>\n",
       "</div>"
      ],
      "text/plain": [
       "   Year    New_Cases  New_Deaths  ICU_Patients  Hosp_Patients  \\\n",
       "0  2020   68075683.0   1585561.0     5481589.0     26189180.0   \n",
       "1  2021  116365073.0   2290268.0     5093171.0     17463957.0   \n",
       "2  2022  125486365.0    388536.0     1002177.0      6051090.0   \n",
       "\n",
       "   People_Fully_Vaccinated  Extreme_Poverty  \n",
       "0             2.534000e+03          58706.2  \n",
       "1             2.010295e+11          78395.5  \n",
       "2             1.823362e+11          19755.3  "
      ]
     },
     "execution_count": 6,
     "metadata": {},
     "output_type": "execute_result"
    }
   ],
   "source": [
    "# Grouping columns by Region, Location & Year\n",
    "groupbyYear = df.groupby([(df.Year.dt.year)]).agg(\n",
    "    New_Cases = ('new_cases','sum'),\n",
    "    New_Deaths = ('new_deaths','sum'),\n",
    "    ICU_Patients = ('icu_patients','sum'),\n",
    "    Hosp_Patients = ('hosp_patients','sum'),\n",
    "    People_Fully_Vaccinated = ('people_fully_vaccinated','sum'),\n",
    "    Extreme_Poverty = ('extreme_poverty','sum'),).reset_index()\n",
    "groupbyYear"
   ]
  },
  {
   "cell_type": "code",
   "execution_count": 7,
   "id": "be791408",
   "metadata": {},
   "outputs": [
    {
     "data": {
      "text/html": [
       "<div>\n",
       "<style scoped>\n",
       "    .dataframe tbody tr th:only-of-type {\n",
       "        vertical-align: middle;\n",
       "    }\n",
       "\n",
       "    .dataframe tbody tr th {\n",
       "        vertical-align: top;\n",
       "    }\n",
       "\n",
       "    .dataframe thead th {\n",
       "        text-align: right;\n",
       "    }\n",
       "</style>\n",
       "<table border=\"1\" class=\"dataframe\">\n",
       "  <thead>\n",
       "    <tr style=\"text-align: right;\">\n",
       "      <th></th>\n",
       "      <th>Location</th>\n",
       "      <th>New_Cases</th>\n",
       "      <th>New_Deaths</th>\n",
       "      <th>ICU_Patients</th>\n",
       "      <th>Hosp_Patients</th>\n",
       "      <th>People_Fully_Vaccinated</th>\n",
       "      <th>Extreme_Poverty</th>\n",
       "    </tr>\n",
       "  </thead>\n",
       "  <tbody>\n",
       "    <tr>\n",
       "      <th>0</th>\n",
       "      <td>Afghanistan</td>\n",
       "      <td>177835.0</td>\n",
       "      <td>7671.0</td>\n",
       "      <td>0.0</td>\n",
       "      <td>0.0</td>\n",
       "      <td>7.771675e+07</td>\n",
       "      <td>0.0</td>\n",
       "    </tr>\n",
       "    <tr>\n",
       "      <th>1</th>\n",
       "      <td>Argentina</td>\n",
       "      <td>9041124.0</td>\n",
       "      <td>128065.0</td>\n",
       "      <td>1892274.0</td>\n",
       "      <td>0.0</td>\n",
       "      <td>7.295752e+09</td>\n",
       "      <td>494.4</td>\n",
       "    </tr>\n",
       "    <tr>\n",
       "      <th>2</th>\n",
       "      <td>Armenia</td>\n",
       "      <td>422574.0</td>\n",
       "      <td>8619.0</td>\n",
       "      <td>0.0</td>\n",
       "      <td>0.0</td>\n",
       "      <td>1.407558e+07</td>\n",
       "      <td>1423.8</td>\n",
       "    </tr>\n",
       "    <tr>\n",
       "      <th>3</th>\n",
       "      <td>Australia</td>\n",
       "      <td>126903.0</td>\n",
       "      <td>1083.0</td>\n",
       "      <td>7222.0</td>\n",
       "      <td>64175.0</td>\n",
       "      <td>1.733309e+08</td>\n",
       "      <td>275.0</td>\n",
       "    </tr>\n",
       "    <tr>\n",
       "      <th>4</th>\n",
       "      <td>Austria</td>\n",
       "      <td>3356737.0</td>\n",
       "      <td>14488.0</td>\n",
       "      <td>157944.0</td>\n",
       "      <td>866079.0</td>\n",
       "      <td>2.070997e+07</td>\n",
       "      <td>495.6</td>\n",
       "    </tr>\n",
       "    <tr>\n",
       "      <th>...</th>\n",
       "      <td>...</td>\n",
       "      <td>...</td>\n",
       "      <td>...</td>\n",
       "      <td>...</td>\n",
       "      <td>...</td>\n",
       "      <td>...</td>\n",
       "      <td>...</td>\n",
       "    </tr>\n",
       "    <tr>\n",
       "      <th>76</th>\n",
       "      <td>United States</td>\n",
       "      <td>16267924.0</td>\n",
       "      <td>301999.0</td>\n",
       "      <td>1941536.0</td>\n",
       "      <td>7213754.0</td>\n",
       "      <td>4.349459e+08</td>\n",
       "      <td>394.8</td>\n",
       "    </tr>\n",
       "    <tr>\n",
       "      <th>77</th>\n",
       "      <td>United States Virgin Islands</td>\n",
       "      <td>0.0</td>\n",
       "      <td>0.0</td>\n",
       "      <td>0.0</td>\n",
       "      <td>0.0</td>\n",
       "      <td>0.000000e+00</td>\n",
       "      <td>0.0</td>\n",
       "    </tr>\n",
       "    <tr>\n",
       "      <th>78</th>\n",
       "      <td>Vanuatu</td>\n",
       "      <td>4237.0</td>\n",
       "      <td>2.0</td>\n",
       "      <td>0.0</td>\n",
       "      <td>0.0</td>\n",
       "      <td>7.196850e+05</td>\n",
       "      <td>6732.0</td>\n",
       "    </tr>\n",
       "    <tr>\n",
       "      <th>79</th>\n",
       "      <td>Venezuela</td>\n",
       "      <td>520843.0</td>\n",
       "      <td>5692.0</td>\n",
       "      <td>0.0</td>\n",
       "      <td>0.0</td>\n",
       "      <td>1.569385e+08</td>\n",
       "      <td>0.0</td>\n",
       "    </tr>\n",
       "    <tr>\n",
       "      <th>80</th>\n",
       "      <td>Vietnam</td>\n",
       "      <td>9818328.0</td>\n",
       "      <td>42785.0</td>\n",
       "      <td>0.0</td>\n",
       "      <td>0.0</td>\n",
       "      <td>2.712662e+09</td>\n",
       "      <td>1604.0</td>\n",
       "    </tr>\n",
       "  </tbody>\n",
       "</table>\n",
       "<p>81 rows × 7 columns</p>\n",
       "</div>"
      ],
      "text/plain": [
       "                        Location   New_Cases  New_Deaths  ICU_Patients  \\\n",
       "0                    Afghanistan    177835.0      7671.0           0.0   \n",
       "1                      Argentina   9041124.0    128065.0     1892274.0   \n",
       "2                        Armenia    422574.0      8619.0           0.0   \n",
       "3                      Australia    126903.0      1083.0        7222.0   \n",
       "4                        Austria   3356737.0     14488.0      157944.0   \n",
       "..                           ...         ...         ...           ...   \n",
       "76                 United States  16267924.0    301999.0     1941536.0   \n",
       "77  United States Virgin Islands         0.0         0.0           0.0   \n",
       "78                       Vanuatu      4237.0         2.0           0.0   \n",
       "79                     Venezuela    520843.0      5692.0           0.0   \n",
       "80                       Vietnam   9818328.0     42785.0           0.0   \n",
       "\n",
       "    Hosp_Patients  People_Fully_Vaccinated  Extreme_Poverty  \n",
       "0             0.0             7.771675e+07              0.0  \n",
       "1             0.0             7.295752e+09            494.4  \n",
       "2             0.0             1.407558e+07           1423.8  \n",
       "3         64175.0             1.733309e+08            275.0  \n",
       "4        866079.0             2.070997e+07            495.6  \n",
       "..            ...                      ...              ...  \n",
       "76      7213754.0             4.349459e+08            394.8  \n",
       "77            0.0             0.000000e+00              0.0  \n",
       "78            0.0             7.196850e+05           6732.0  \n",
       "79            0.0             1.569385e+08              0.0  \n",
       "80            0.0             2.712662e+09           1604.0  \n",
       "\n",
       "[81 rows x 7 columns]"
      ]
     },
     "execution_count": 7,
     "metadata": {},
     "output_type": "execute_result"
    }
   ],
   "source": [
    "# Grouping columns by Location, Year\n",
    "groupbyLocation = df.groupby([(df.Location)]).agg(\n",
    "    New_Cases = ('new_cases','sum'),\n",
    "    New_Deaths = ('new_deaths','sum'),\n",
    "    ICU_Patients = ('icu_patients','sum'),\n",
    "    Hosp_Patients = ('hosp_patients','sum'),\n",
    "    People_Fully_Vaccinated = ('people_fully_vaccinated','sum'),\n",
    "    Extreme_Poverty = ('extreme_poverty','sum'),).reset_index()\n",
    "groupbyLocation"
   ]
  },
  {
   "cell_type": "code",
   "execution_count": 8,
   "id": "21e9a99f",
   "metadata": {},
   "outputs": [],
   "source": [
    "# CSV file\n",
    "groupbyYear = pd.DataFrame(groupbyYear)\n",
    "groupbyYear.to_csv('data/groupbyYear.csv',index=False)\n",
    "\n",
    "groupbyLocation = pd.DataFrame(groupbyLocation)\n",
    "groupbyLocation.to_csv('data/groupbyCountry.csv',index=False)"
   ]
  },
  {
   "cell_type": "code",
   "execution_count": 18,
   "id": "c371e7bf",
   "metadata": {},
   "outputs": [
    {
     "data": {
      "text/plain": [
       "<Figure size 720x576 with 0 Axes>"
      ]
     },
     "metadata": {},
     "output_type": "display_data"
    }
   ],
   "source": [
    "# set width of bars\n",
    "w = 0.5\n",
    "\n",
    "# Figure Size\n",
    "fig = plt.figure(figsize =(10, 8))\n",
    "\n",
    "# Define x-axis\n",
    "year = groupbyYear['Year']\n",
    "\n",
    "minimum = min(year)\n",
    "maximum = max(year)\n",
    "newnum = range(math.floor(min(year)), math.ceil(max(year))+1)\n",
    "\n",
    "# Define y-axis\n",
    "cases = groupbyYear['New_Cases']\n",
    "deaths = groupbyYear['New_Deaths']\n",
    "icu = groupbyYear['ICU_Patients']\n",
    "hosp = groupbyYear['Hosp_Patients']\n",
    "vaccine = groupbyYear['People_Fully_Vaccinated']\n",
    "povetry = groupbyYear['Extreme_Poverty']\n",
    "\n",
    "ind = [years for years in year]"
   ]
  },
  {
   "cell_type": "code",
   "execution_count": 19,
   "id": "f4032cf2",
   "metadata": {},
   "outputs": [
    {
     "data": {
      "image/png": "[encoded data removed]",
      "text/plain": [
       "<Figure size 432x288 with 1 Axes>"
      ]
     },
     "metadata": {
      "needs_background": "light"
     },
     "output_type": "display_data"
    }
   ],
   "source": [
    "# Make the plot\n",
    "plt.bar(year, cases, 0.4, color='#89CFF0', label='New Cases')\n",
    "plt.bar(year, deaths, 0.4, color='#00FFFF', label='New Deaths')\n",
    "\n",
    "# Add xticks on the middle of the group bars\n",
    "plt.xlabel('Volumes')\n",
    "plt.ylabel('Year')\n",
    "plt.title(\"Covid19 Cases vs Death\", fontweight='bold')\n",
    "plt.xticks(newnum)\n",
    " \n",
    "# Create legend & Show graphic\n",
    "plt.legend(loc='upper right')\n",
    "plt.show()"
   ]
  },
  {
   "cell_type": "code",
   "execution_count": 13,
   "id": "51098c4e",
   "metadata": {},
   "outputs": [
    {
     "data": {
      "text/plain": [
       "Text(0, 0.5, 'Volumes')"
      ]
     },
     "execution_count": 13,
     "metadata": {},
     "output_type": "execute_result"
    },
    {
     "data": {
      "image/png": "[encoded data removed]",
      "text/plain": [
       "<Figure size 432x288 with 1 Axes>"
      ]
     },
     "metadata": {
      "needs_background": "light"
     },
     "output_type": "display_data"
    }
   ],
   "source": [
    "# plotdata = pd.DataFrame({\n",
    "#     \"new cases\":groupbyYear['New_Cases'],\n",
    "#     \"new death\":groupbyYear['New_Deaths'],\n",
    "#     }, \n",
    "#     index=groupbyYear['Year']\n",
    "# )\n",
    "# plotdata.plot(kind=\"bar\")\n",
    "# plt.title(\"Covid19 Cases vs Death\")\n",
    "# plt.xlabel(\"Year\")\n",
    "# plt.ylabel(\"Volumes\")"
   ]
  },
  {
   "cell_type": "code",
   "execution_count": 20,
   "id": "b6d681cc",
   "metadata": {},
   "outputs": [
    {
     "data": {
      "image/png": "[encoded data removed]",
      "text/plain": [
       "<Figure size 432x288 with 1 Axes>"
      ]
     },
     "metadata": {
      "needs_background": "light"
     },
     "output_type": "display_data"
    }
   ],
   "source": [
    "# Make the plot\n",
    "plt.bar(ind, hosp, 0.4, color='#89CFF0', label='Hosp Patients')\n",
    "plt.bar(ind, icu, 0.4, color='#00FFFF', label='ICU Patients')\n",
    " \n",
    "# Add xticks on the middle of the group bars\n",
    "plt.xlabel('Volumes')\n",
    "plt.ylabel('Year')\n",
    "plt.title(\"Hospitality Patients vs ICU Patients\", fontweight='bold')\n",
    "plt.xticks(newnum)\n",
    " \n",
    "# Create legend & Show graphic\n",
    "plt.legend(loc='upper right')\n",
    "plt.show()"
   ]
  },
  {
   "cell_type": "markdown",
   "id": "169cc81d",
   "metadata": {},
   "source": [
    "__Image Source:__ https://cordis.europa.eu/article/id/435709-investigating-europe-s-life-saving-lockdown-policies\n",
    "![image info](images/lockdown.jpg)"
   ]
  },
  {
   "cell_type": "markdown",
   "id": "1398801f",
   "metadata": {},
   "source": [
    "__Image Source:__ https://www.sciencedirect.com/science/article/pii/S0959652621019235\n",
    "![image info](images/covidimpact.jpg)\n",
    "\n",
    "Due to the spike of Covid19 Cases, there are several sectors was impacted such as human lifestyle, economy, environment, energy sector."
   ]
  },
  {
   "cell_type": "markdown",
   "id": "e68ca852",
   "metadata": {},
   "source": [
    "__LOB Cuskit Launch Dataset__"
   ]
  },
  {
   "cell_type": "code",
   "execution_count": null,
   "id": "eee388b5",
   "metadata": {},
   "outputs": [],
   "source": [
    "lob = pd.read_csv(\"data/LOB Cuskit Launches.csv\")\n",
    "lob.head()"
   ]
  },
  {
   "cell_type": "code",
   "execution_count": null,
   "id": "2af61e64",
   "metadata": {},
   "outputs": [],
   "source": [
    "groupLOB = lob.groupby([(lob.Year)]).agg(\n",
    "    TotalL = ('Total Launch','sum'),\n",
    "    FluctuateL = ('Launch Fluctuation','sum'),).reset_index()\n",
    "groupLOB"
   ]
  },
  {
   "cell_type": "code",
   "execution_count": null,
   "id": "be2898af",
   "metadata": {},
   "outputs": [],
   "source": [
    "# set width of bars\n",
    "w = 0.5\n",
    "\n",
    "# Figure Size\n",
    "fig = plt.figure(figsize =(10, 8))\n",
    "\n",
    "# Define x-axis\n",
    "quarter = groupLOB['Year']\n",
    "\n",
    "# Define y-axis\n",
    "TotalL = groupLOB['TotalL']\n",
    "FluctuateL = groupLOB['FluctuateL']\n",
    "\n",
    "# Make the plot\n",
    "plt.bar(quarter, TotalL, 0.4, color='#89CFF0', label='Total Launch')\n",
    "plt.bar(quarter, FluctuateL, 0.4, color='#00FFFF', label='Launch Fluctuation')\n",
    "\n",
    "# Add xticks on the middle of the group bars\n",
    "plt.xlabel('Year')\n",
    "plt.ylabel('Launches')\n",
    "plt.title(\"Total vs Fluctuated Launches\", fontweight='bold')\n",
    "plt.xticks(quarter)\n",
    " \n",
    "# Create legend & Show graphic\n",
    "plt.legend(loc='upper right')\n",
    "plt.show()"
   ]
  },
  {
   "cell_type": "markdown",
   "id": "ad7e6870",
   "metadata": {},
   "source": [
    "__LOB Cuskit Revenue__"
   ]
  },
  {
   "cell_type": "code",
   "execution_count": 46,
   "id": "839e4aea",
   "metadata": {},
   "outputs": [
    {
     "data": {
      "text/html": [
       "<div>\n",
       "<style scoped>\n",
       "    .dataframe tbody tr th:only-of-type {\n",
       "        vertical-align: middle;\n",
       "    }\n",
       "\n",
       "    .dataframe tbody tr th {\n",
       "        vertical-align: top;\n",
       "    }\n",
       "\n",
       "    .dataframe thead th {\n",
       "        text-align: right;\n",
       "    }\n",
       "</style>\n",
       "<table border=\"1\" class=\"dataframe\">\n",
       "  <thead>\n",
       "    <tr style=\"text-align: right;\">\n",
       "      <th></th>\n",
       "      <th>Quarter</th>\n",
       "      <th>Region</th>\n",
       "      <th>BU_ID</th>\n",
       "      <th>Country</th>\n",
       "      <th>SKU_NUMBER</th>\n",
       "      <th>Category</th>\n",
       "      <th>Revenue</th>\n",
       "      <th>Margin</th>\n",
       "    </tr>\n",
       "  </thead>\n",
       "  <tbody>\n",
       "    <tr>\n",
       "      <th>0</th>\n",
       "      <td>FY22Q3</td>\n",
       "      <td>AMER</td>\n",
       "      <td>11</td>\n",
       "      <td>United States</td>\n",
       "      <td>020K1</td>\n",
       "      <td>BATTERY</td>\n",
       "      <td>99.99</td>\n",
       "      <td>86.40</td>\n",
       "    </tr>\n",
       "    <tr>\n",
       "      <th>1</th>\n",
       "      <td>FY22Q3</td>\n",
       "      <td>AMER</td>\n",
       "      <td>11</td>\n",
       "      <td>United States</td>\n",
       "      <td>06PX9</td>\n",
       "      <td>ACCESSORIES</td>\n",
       "      <td>0.00</td>\n",
       "      <td>0.00</td>\n",
       "    </tr>\n",
       "    <tr>\n",
       "      <th>2</th>\n",
       "      <td>FY22Q3</td>\n",
       "      <td>AMER</td>\n",
       "      <td>11</td>\n",
       "      <td>United States</td>\n",
       "      <td>0WF28</td>\n",
       "      <td>BATTERY</td>\n",
       "      <td>0.00</td>\n",
       "      <td>0.00</td>\n",
       "    </tr>\n",
       "    <tr>\n",
       "      <th>3</th>\n",
       "      <td>FY22Q3</td>\n",
       "      <td>AMER</td>\n",
       "      <td>11</td>\n",
       "      <td>United States</td>\n",
       "      <td>1P6KD</td>\n",
       "      <td>BATTERY</td>\n",
       "      <td>25413.54</td>\n",
       "      <td>24746.22</td>\n",
       "    </tr>\n",
       "    <tr>\n",
       "      <th>4</th>\n",
       "      <td>FY22Q3</td>\n",
       "      <td>AMER</td>\n",
       "      <td>11</td>\n",
       "      <td>United States</td>\n",
       "      <td>1V2F6</td>\n",
       "      <td>BATTERY</td>\n",
       "      <td>281.57</td>\n",
       "      <td>237.47</td>\n",
       "    </tr>\n",
       "  </tbody>\n",
       "</table>\n",
       "</div>"
      ],
      "text/plain": [
       "  Quarter Region  BU_ID        Country SKU_NUMBER     Category   Revenue  \\\n",
       "0  FY22Q3   AMER     11  United States      020K1      BATTERY     99.99   \n",
       "1  FY22Q3   AMER     11  United States      06PX9  ACCESSORIES      0.00   \n",
       "2  FY22Q3   AMER     11  United States      0WF28      BATTERY      0.00   \n",
       "3  FY22Q3   AMER     11  United States      1P6KD      BATTERY  25413.54   \n",
       "4  FY22Q3   AMER     11  United States      1V2F6      BATTERY    281.57   \n",
       "\n",
       "     Margin  \n",
       "0     86.40  \n",
       "1      0.00  \n",
       "2      0.00  \n",
       "3  24746.22  \n",
       "4    237.47  "
      ]
     },
     "execution_count": 46,
     "metadata": {},
     "output_type": "execute_result"
    }
   ],
   "source": [
    "from pandas import DataFrame\n",
    "from sklearn.linear_model import LinearRegression\n",
    "rev = pd.read_csv(\"data/SKU Sold Detail.csv\")\n",
    "rev.head()"
   ]
  },
  {
   "cell_type": "code",
   "execution_count": 53,
   "id": "2fa69250",
   "metadata": {},
   "outputs": [
    {
     "data": {
      "text/plain": [
       "Quarter       0\n",
       "Region        0\n",
       "BU_ID         0\n",
       "Country       0\n",
       "SKU_NUMBER    0\n",
       "Category      0\n",
       "Revenue       0\n",
       "Margin        0\n",
       "dtype: int64"
      ]
     },
     "execution_count": 53,
     "metadata": {},
     "output_type": "execute_result"
    }
   ],
   "source": [
    "rev.isnull().sum()"
   ]
  },
  {
   "cell_type": "code",
   "execution_count": 56,
   "id": "52dddc99",
   "metadata": {},
   "outputs": [
    {
     "name": "stderr",
     "output_type": "stream",
     "text": [
      "C:\\Users\\wooi_ling_chin\\Anaconda3\\envs\\web\\lib\\site-packages\\seaborn\\distributions.py:2619: FutureWarning: `distplot` is a deprecated function and will be removed in a future version. Please adapt your code to use either `displot` (a figure-level function with similar flexibility) or `histplot` (an axes-level function for histograms).\n",
      "  warnings.warn(msg, FutureWarning)\n"
     ]
    },
    {
     "ename": "TypeError",
     "evalue": "float() argument must be a string or a number, not 'StandardScaler'",
     "output_type": "error",
     "traceback": [
      "\u001b[1;31m---------------------------------------------------------------------------\u001b[0m",
      "\u001b[1;31mTypeError\u001b[0m                                 Traceback (most recent call last)",
      "Input \u001b[1;32mIn [56]\u001b[0m, in \u001b[0;36m<cell line: 5>\u001b[1;34m()\u001b[0m\n\u001b[0;32m      3\u001b[0m rev[\u001b[38;5;124m'\u001b[39m\u001b[38;5;124mRevenue\u001b[39m\u001b[38;5;124m'\u001b[39m]\u001b[38;5;241m=\u001b[39msc\u001b[38;5;241m.\u001b[39mfit(rev[[\u001b[38;5;124m'\u001b[39m\u001b[38;5;124mRevenue\u001b[39m\u001b[38;5;124m'\u001b[39m]])\n\u001b[0;32m      4\u001b[0m \u001b[38;5;28;01mimport\u001b[39;00m \u001b[38;5;21;01mseaborn\u001b[39;00m \u001b[38;5;28;01mas\u001b[39;00m \u001b[38;5;21;01msns\u001b[39;00m\n\u001b[1;32m----> 5\u001b[0m \u001b[43msns\u001b[49m\u001b[38;5;241;43m.\u001b[39;49m\u001b[43mdistplot\u001b[49m\u001b[43m(\u001b[49m\u001b[43mrev\u001b[49m\u001b[38;5;241;43m.\u001b[39;49m\u001b[43mRevenue\u001b[49m\u001b[43m)\u001b[49m\n",
      "File \u001b[1;32m~\\Anaconda3\\envs\\web\\lib\\site-packages\\seaborn\\distributions.py:2636\u001b[0m, in \u001b[0;36mdistplot\u001b[1;34m(a, bins, hist, kde, rug, fit, hist_kws, kde_kws, rug_kws, fit_kws, color, vertical, norm_hist, axlabel, label, ax, x)\u001b[0m\n\u001b[0;32m   2633\u001b[0m     a \u001b[38;5;241m=\u001b[39m x\n\u001b[0;32m   2635\u001b[0m \u001b[38;5;66;03m# Make a a 1-d float array\u001b[39;00m\n\u001b[1;32m-> 2636\u001b[0m a \u001b[38;5;241m=\u001b[39m \u001b[43mnp\u001b[49m\u001b[38;5;241;43m.\u001b[39;49m\u001b[43masarray\u001b[49m\u001b[43m(\u001b[49m\u001b[43ma\u001b[49m\u001b[43m,\u001b[49m\u001b[43m \u001b[49m\u001b[38;5;28;43mfloat\u001b[39;49m\u001b[43m)\u001b[49m\n\u001b[0;32m   2637\u001b[0m \u001b[38;5;28;01mif\u001b[39;00m a\u001b[38;5;241m.\u001b[39mndim \u001b[38;5;241m>\u001b[39m \u001b[38;5;241m1\u001b[39m:\n\u001b[0;32m   2638\u001b[0m     a \u001b[38;5;241m=\u001b[39m a\u001b[38;5;241m.\u001b[39msqueeze()\n",
      "File \u001b[1;32m~\\Anaconda3\\envs\\web\\lib\\site-packages\\pandas\\core\\series.py:872\u001b[0m, in \u001b[0;36mSeries.__array__\u001b[1;34m(self, dtype)\u001b[0m\n\u001b[0;32m    825\u001b[0m \u001b[38;5;28;01mdef\u001b[39;00m \u001b[38;5;21m__array__\u001b[39m(\u001b[38;5;28mself\u001b[39m, dtype: npt\u001b[38;5;241m.\u001b[39mDTypeLike \u001b[38;5;241m|\u001b[39m \u001b[38;5;28;01mNone\u001b[39;00m \u001b[38;5;241m=\u001b[39m \u001b[38;5;28;01mNone\u001b[39;00m) \u001b[38;5;241m-\u001b[39m\u001b[38;5;241m>\u001b[39m np\u001b[38;5;241m.\u001b[39mndarray:\n\u001b[0;32m    826\u001b[0m     \u001b[38;5;124;03m\"\"\"\u001b[39;00m\n\u001b[0;32m    827\u001b[0m \u001b[38;5;124;03m    Return the values as a NumPy array.\u001b[39;00m\n\u001b[0;32m    828\u001b[0m \n\u001b[1;32m   (...)\u001b[0m\n\u001b[0;32m    870\u001b[0m \u001b[38;5;124;03m          dtype='datetime64[ns]')\u001b[39;00m\n\u001b[0;32m    871\u001b[0m \u001b[38;5;124;03m    \"\"\"\u001b[39;00m\n\u001b[1;32m--> 872\u001b[0m     \u001b[38;5;28;01mreturn\u001b[39;00m \u001b[43mnp\u001b[49m\u001b[38;5;241;43m.\u001b[39;49m\u001b[43masarray\u001b[49m\u001b[43m(\u001b[49m\u001b[38;5;28;43mself\u001b[39;49m\u001b[38;5;241;43m.\u001b[39;49m\u001b[43m_values\u001b[49m\u001b[43m,\u001b[49m\u001b[43m \u001b[49m\u001b[43mdtype\u001b[49m\u001b[43m)\u001b[49m\n",
      "\u001b[1;31mTypeError\u001b[0m: float() argument must be a string or a number, not 'StandardScaler'"
     ]
    },
    {
     "data": {
      "image/png": "[encoded data removed]",
      "text/plain": [
       "<Figure size 504x252 with 1 Axes>"
      ]
     },
     "metadata": {
      "needs_background": "light"
     },
     "output_type": "display_data"
    }
   ],
   "source": [
    "from sklearn.preprocessing import PowerTransformer\n",
    "p=PowerTransformer()\n",
    "rev['Revenue']=p.fit_transform(rev[['Revenue']])\n",
    "import seaborn as sns\n",
    "sns.distplot(rev.Revenue)"
   ]
  },
  {
   "cell_type": "code",
   "execution_count": null,
   "id": "e225d7d0",
   "metadata": {},
   "outputs": [],
   "source": []
  },
  {
   "cell_type": "code",
   "execution_count": 44,
   "id": "94edb98a",
   "metadata": {},
   "outputs": [
    {
     "data": {
      "image/png": "[encoded data removed]",
      "text/plain": [
       "<Figure size 720x432 with 1 Axes>"
      ]
     },
     "metadata": {
      "needs_background": "light"
     },
     "output_type": "display_data"
    }
   ],
   "source": [
    "X = DataFrame(rev, columns=['Revenue'])\n",
    "y = DataFrame(rev, columns=['Margin'])\n",
    " \n",
    "plt.figure(figsize=(10,6))\n",
    "plt.scatter(X, y, alpha=0.3)\n",
    "plt.title('Revenue vs Margin')\n",
    "plt.xlabel('Revenue')\n",
    "plt.ylabel('Margin')\n",
    "plt.show()"
   ]
  },
  {
   "cell_type": "code",
   "execution_count": 48,
   "id": "093a4c81",
   "metadata": {},
   "outputs": [
    {
     "data": {
      "text/plain": [
       "LinearRegression()"
      ]
     },
     "execution_count": 48,
     "metadata": {},
     "output_type": "execute_result"
    }
   ],
   "source": [
    "# Apply Linear Regression\n",
    "lg = LinearRegression()\n",
    "lg.fit(X,y)"
   ]
  },
  {
   "cell_type": "code",
   "execution_count": 50,
   "id": "dcd9046e",
   "metadata": {},
   "outputs": [
    {
     "ename": "InvalidIndexError",
     "evalue": "(slice(None, None, None), None)",
     "output_type": "error",
     "traceback": [
      "\u001b[1;31m---------------------------------------------------------------------------\u001b[0m",
      "\u001b[1;31mTypeError\u001b[0m                                 Traceback (most recent call last)",
      "File \u001b[1;32m~\\Anaconda3\\envs\\web\\lib\\site-packages\\pandas\\core\\indexes\\base.py:3621\u001b[0m, in \u001b[0;36mIndex.get_loc\u001b[1;34m(self, key, method, tolerance)\u001b[0m\n\u001b[0;32m   3620\u001b[0m \u001b[38;5;28;01mtry\u001b[39;00m:\n\u001b[1;32m-> 3621\u001b[0m     \u001b[38;5;28;01mreturn\u001b[39;00m \u001b[38;5;28;43mself\u001b[39;49m\u001b[38;5;241;43m.\u001b[39;49m\u001b[43m_engine\u001b[49m\u001b[38;5;241;43m.\u001b[39;49m\u001b[43mget_loc\u001b[49m\u001b[43m(\u001b[49m\u001b[43mcasted_key\u001b[49m\u001b[43m)\u001b[49m\n\u001b[0;32m   3622\u001b[0m \u001b[38;5;28;01mexcept\u001b[39;00m \u001b[38;5;167;01mKeyError\u001b[39;00m \u001b[38;5;28;01mas\u001b[39;00m err:\n",
      "File \u001b[1;32m~\\Anaconda3\\envs\\web\\lib\\site-packages\\pandas\\_libs\\index.pyx:136\u001b[0m, in \u001b[0;36mpandas._libs.index.IndexEngine.get_loc\u001b[1;34m()\u001b[0m\n",
      "File \u001b[1;32m~\\Anaconda3\\envs\\web\\lib\\site-packages\\pandas\\_libs\\index.pyx:142\u001b[0m, in \u001b[0;36mpandas._libs.index.IndexEngine.get_loc\u001b[1;34m()\u001b[0m\n",
      "\u001b[1;31mTypeError\u001b[0m: '(slice(None, None, None), None)' is an invalid key",
      "\nDuring handling of the above exception, another exception occurred:\n",
      "\u001b[1;31mInvalidIndexError\u001b[0m                         Traceback (most recent call last)",
      "Input \u001b[1;32mIn [50]\u001b[0m, in \u001b[0;36m<cell line: 2>\u001b[1;34m()\u001b[0m\n\u001b[0;32m      1\u001b[0m plt\u001b[38;5;241m.\u001b[39mscatter(X, y, alpha\u001b[38;5;241m=\u001b[39m\u001b[38;5;241m0.3\u001b[39m,color\u001b[38;5;241m=\u001b[39m\u001b[38;5;124m\"\u001b[39m\u001b[38;5;124mgreen\u001b[39m\u001b[38;5;124m\"\u001b[39m)\n\u001b[1;32m----> 2\u001b[0m \u001b[43mplt\u001b[49m\u001b[38;5;241;43m.\u001b[39;49m\u001b[43mplot\u001b[49m\u001b[43m(\u001b[49m\u001b[43mX\u001b[49m\u001b[43m,\u001b[49m\u001b[43m \u001b[49m\u001b[43mlg\u001b[49m\u001b[38;5;241;43m.\u001b[39;49m\u001b[43mpredict\u001b[49m\u001b[43m(\u001b[49m\u001b[43mX\u001b[49m\u001b[43m)\u001b[49m\u001b[43m,\u001b[49m\u001b[43m \u001b[49m\u001b[43mcolor\u001b[49m\u001b[38;5;241;43m=\u001b[39;49m\u001b[38;5;124;43m'\u001b[39;49m\u001b[38;5;124;43mred\u001b[39;49m\u001b[38;5;124;43m'\u001b[39;49m\u001b[43m,\u001b[49m\u001b[43m \u001b[49m\u001b[43mlinewidth\u001b[49m\u001b[38;5;241;43m=\u001b[39;49m\u001b[38;5;241;43m3\u001b[39;49m\u001b[43m)\u001b[49m\n\u001b[0;32m      3\u001b[0m plt\u001b[38;5;241m.\u001b[39mtitle(\u001b[38;5;124m\"\u001b[39m\u001b[38;5;124mFinal Linear Regression Plot\u001b[39m\u001b[38;5;124m\"\u001b[39m)\n\u001b[0;32m      4\u001b[0m plt\u001b[38;5;241m.\u001b[39mplot()\n",
      "File \u001b[1;32m~\\Anaconda3\\envs\\web\\lib\\site-packages\\matplotlib\\pyplot.py:2757\u001b[0m, in \u001b[0;36mplot\u001b[1;34m(scalex, scaley, data, *args, **kwargs)\u001b[0m\n\u001b[0;32m   2755\u001b[0m \u001b[38;5;129m@_copy_docstring_and_deprecators\u001b[39m(Axes\u001b[38;5;241m.\u001b[39mplot)\n\u001b[0;32m   2756\u001b[0m \u001b[38;5;28;01mdef\u001b[39;00m \u001b[38;5;21mplot\u001b[39m(\u001b[38;5;241m*\u001b[39margs, scalex\u001b[38;5;241m=\u001b[39m\u001b[38;5;28;01mTrue\u001b[39;00m, scaley\u001b[38;5;241m=\u001b[39m\u001b[38;5;28;01mTrue\u001b[39;00m, data\u001b[38;5;241m=\u001b[39m\u001b[38;5;28;01mNone\u001b[39;00m, \u001b[38;5;241m*\u001b[39m\u001b[38;5;241m*\u001b[39mkwargs):\n\u001b[1;32m-> 2757\u001b[0m     \u001b[38;5;28;01mreturn\u001b[39;00m gca()\u001b[38;5;241m.\u001b[39mplot(\n\u001b[0;32m   2758\u001b[0m         \u001b[38;5;241m*\u001b[39margs, scalex\u001b[38;5;241m=\u001b[39mscalex, scaley\u001b[38;5;241m=\u001b[39mscaley,\n\u001b[0;32m   2759\u001b[0m         \u001b[38;5;241m*\u001b[39m\u001b[38;5;241m*\u001b[39m({\u001b[38;5;124m\"\u001b[39m\u001b[38;5;124mdata\u001b[39m\u001b[38;5;124m\"\u001b[39m: data} \u001b[38;5;28;01mif\u001b[39;00m data \u001b[38;5;129;01mis\u001b[39;00m \u001b[38;5;129;01mnot\u001b[39;00m \u001b[38;5;28;01mNone\u001b[39;00m \u001b[38;5;28;01melse\u001b[39;00m {}), \u001b[38;5;241m*\u001b[39m\u001b[38;5;241m*\u001b[39mkwargs)\n",
      "File \u001b[1;32m~\\Anaconda3\\envs\\web\\lib\\site-packages\\matplotlib\\axes\\_axes.py:1632\u001b[0m, in \u001b[0;36mAxes.plot\u001b[1;34m(self, scalex, scaley, data, *args, **kwargs)\u001b[0m\n\u001b[0;32m   1390\u001b[0m \u001b[38;5;124;03m\"\"\"\u001b[39;00m\n\u001b[0;32m   1391\u001b[0m \u001b[38;5;124;03mPlot y versus x as lines and/or markers.\u001b[39;00m\n\u001b[0;32m   1392\u001b[0m \n\u001b[1;32m   (...)\u001b[0m\n\u001b[0;32m   1629\u001b[0m \u001b[38;5;124;03m(``'green'``) or hex strings (``'#008000'``).\u001b[39;00m\n\u001b[0;32m   1630\u001b[0m \u001b[38;5;124;03m\"\"\"\u001b[39;00m\n\u001b[0;32m   1631\u001b[0m kwargs \u001b[38;5;241m=\u001b[39m cbook\u001b[38;5;241m.\u001b[39mnormalize_kwargs(kwargs, mlines\u001b[38;5;241m.\u001b[39mLine2D)\n\u001b[1;32m-> 1632\u001b[0m lines \u001b[38;5;241m=\u001b[39m [\u001b[38;5;241m*\u001b[39m\u001b[38;5;28mself\u001b[39m\u001b[38;5;241m.\u001b[39m_get_lines(\u001b[38;5;241m*\u001b[39margs, data\u001b[38;5;241m=\u001b[39mdata, \u001b[38;5;241m*\u001b[39m\u001b[38;5;241m*\u001b[39mkwargs)]\n\u001b[0;32m   1633\u001b[0m \u001b[38;5;28;01mfor\u001b[39;00m line \u001b[38;5;129;01min\u001b[39;00m lines:\n\u001b[0;32m   1634\u001b[0m     \u001b[38;5;28mself\u001b[39m\u001b[38;5;241m.\u001b[39madd_line(line)\n",
      "File \u001b[1;32m~\\Anaconda3\\envs\\web\\lib\\site-packages\\matplotlib\\axes\\_base.py:312\u001b[0m, in \u001b[0;36m_process_plot_var_args.__call__\u001b[1;34m(self, data, *args, **kwargs)\u001b[0m\n\u001b[0;32m    310\u001b[0m     this \u001b[38;5;241m+\u001b[39m\u001b[38;5;241m=\u001b[39m args[\u001b[38;5;241m0\u001b[39m],\n\u001b[0;32m    311\u001b[0m     args \u001b[38;5;241m=\u001b[39m args[\u001b[38;5;241m1\u001b[39m:]\n\u001b[1;32m--> 312\u001b[0m \u001b[38;5;28;01myield from\u001b[39;00m \u001b[38;5;28;43mself\u001b[39;49m\u001b[38;5;241;43m.\u001b[39;49m\u001b[43m_plot_args\u001b[49m\u001b[43m(\u001b[49m\u001b[43mthis\u001b[49m\u001b[43m,\u001b[49m\u001b[43m \u001b[49m\u001b[43mkwargs\u001b[49m\u001b[43m)\u001b[49m\n",
      "File \u001b[1;32m~\\Anaconda3\\envs\\web\\lib\\site-packages\\matplotlib\\axes\\_base.py:487\u001b[0m, in \u001b[0;36m_process_plot_var_args._plot_args\u001b[1;34m(self, tup, kwargs, return_kwargs)\u001b[0m\n\u001b[0;32m    484\u001b[0m         kw[prop_name] \u001b[38;5;241m=\u001b[39m val\n\u001b[0;32m    486\u001b[0m \u001b[38;5;28;01mif\u001b[39;00m \u001b[38;5;28mlen\u001b[39m(xy) \u001b[38;5;241m==\u001b[39m \u001b[38;5;241m2\u001b[39m:\n\u001b[1;32m--> 487\u001b[0m     x \u001b[38;5;241m=\u001b[39m \u001b[43m_check_1d\u001b[49m\u001b[43m(\u001b[49m\u001b[43mxy\u001b[49m\u001b[43m[\u001b[49m\u001b[38;5;241;43m0\u001b[39;49m\u001b[43m]\u001b[49m\u001b[43m)\u001b[49m\n\u001b[0;32m    488\u001b[0m     y \u001b[38;5;241m=\u001b[39m _check_1d(xy[\u001b[38;5;241m1\u001b[39m])\n\u001b[0;32m    489\u001b[0m \u001b[38;5;28;01melse\u001b[39;00m:\n",
      "File \u001b[1;32m~\\Anaconda3\\envs\\web\\lib\\site-packages\\matplotlib\\cbook\\__init__.py:1327\u001b[0m, in \u001b[0;36m_check_1d\u001b[1;34m(x)\u001b[0m\n\u001b[0;32m   1321\u001b[0m \u001b[38;5;28;01mwith\u001b[39;00m warnings\u001b[38;5;241m.\u001b[39mcatch_warnings(record\u001b[38;5;241m=\u001b[39m\u001b[38;5;28;01mTrue\u001b[39;00m) \u001b[38;5;28;01mas\u001b[39;00m w:\n\u001b[0;32m   1322\u001b[0m     warnings\u001b[38;5;241m.\u001b[39mfilterwarnings(\n\u001b[0;32m   1323\u001b[0m         \u001b[38;5;124m\"\u001b[39m\u001b[38;5;124malways\u001b[39m\u001b[38;5;124m\"\u001b[39m,\n\u001b[0;32m   1324\u001b[0m         category\u001b[38;5;241m=\u001b[39m\u001b[38;5;167;01mWarning\u001b[39;00m,\n\u001b[0;32m   1325\u001b[0m         message\u001b[38;5;241m=\u001b[39m\u001b[38;5;124m'\u001b[39m\u001b[38;5;124mSupport for multi-dimensional indexing\u001b[39m\u001b[38;5;124m'\u001b[39m)\n\u001b[1;32m-> 1327\u001b[0m     ndim \u001b[38;5;241m=\u001b[39m \u001b[43mx\u001b[49m\u001b[43m[\u001b[49m\u001b[43m:\u001b[49m\u001b[43m,\u001b[49m\u001b[43m \u001b[49m\u001b[38;5;28;43;01mNone\u001b[39;49;00m\u001b[43m]\u001b[49m\u001b[38;5;241m.\u001b[39mndim\n\u001b[0;32m   1328\u001b[0m     \u001b[38;5;66;03m# we have definitely hit a pandas index or series object\u001b[39;00m\n\u001b[0;32m   1329\u001b[0m     \u001b[38;5;66;03m# cast to a numpy array.\u001b[39;00m\n\u001b[0;32m   1330\u001b[0m     \u001b[38;5;28;01mif\u001b[39;00m \u001b[38;5;28mlen\u001b[39m(w) \u001b[38;5;241m>\u001b[39m \u001b[38;5;241m0\u001b[39m:\n",
      "File \u001b[1;32m~\\Anaconda3\\envs\\web\\lib\\site-packages\\pandas\\core\\frame.py:3505\u001b[0m, in \u001b[0;36mDataFrame.__getitem__\u001b[1;34m(self, key)\u001b[0m\n\u001b[0;32m   3503\u001b[0m \u001b[38;5;28;01mif\u001b[39;00m \u001b[38;5;28mself\u001b[39m\u001b[38;5;241m.\u001b[39mcolumns\u001b[38;5;241m.\u001b[39mnlevels \u001b[38;5;241m>\u001b[39m \u001b[38;5;241m1\u001b[39m:\n\u001b[0;32m   3504\u001b[0m     \u001b[38;5;28;01mreturn\u001b[39;00m \u001b[38;5;28mself\u001b[39m\u001b[38;5;241m.\u001b[39m_getitem_multilevel(key)\n\u001b[1;32m-> 3505\u001b[0m indexer \u001b[38;5;241m=\u001b[39m \u001b[38;5;28;43mself\u001b[39;49m\u001b[38;5;241;43m.\u001b[39;49m\u001b[43mcolumns\u001b[49m\u001b[38;5;241;43m.\u001b[39;49m\u001b[43mget_loc\u001b[49m\u001b[43m(\u001b[49m\u001b[43mkey\u001b[49m\u001b[43m)\u001b[49m\n\u001b[0;32m   3506\u001b[0m \u001b[38;5;28;01mif\u001b[39;00m is_integer(indexer):\n\u001b[0;32m   3507\u001b[0m     indexer \u001b[38;5;241m=\u001b[39m [indexer]\n",
      "File \u001b[1;32m~\\Anaconda3\\envs\\web\\lib\\site-packages\\pandas\\core\\indexes\\base.py:3628\u001b[0m, in \u001b[0;36mIndex.get_loc\u001b[1;34m(self, key, method, tolerance)\u001b[0m\n\u001b[0;32m   3623\u001b[0m         \u001b[38;5;28;01mraise\u001b[39;00m \u001b[38;5;167;01mKeyError\u001b[39;00m(key) \u001b[38;5;28;01mfrom\u001b[39;00m \u001b[38;5;21;01merr\u001b[39;00m\n\u001b[0;32m   3624\u001b[0m     \u001b[38;5;28;01mexcept\u001b[39;00m \u001b[38;5;167;01mTypeError\u001b[39;00m:\n\u001b[0;32m   3625\u001b[0m         \u001b[38;5;66;03m# If we have a listlike key, _check_indexing_error will raise\u001b[39;00m\n\u001b[0;32m   3626\u001b[0m         \u001b[38;5;66;03m#  InvalidIndexError. Otherwise we fall through and re-raise\u001b[39;00m\n\u001b[0;32m   3627\u001b[0m         \u001b[38;5;66;03m#  the TypeError.\u001b[39;00m\n\u001b[1;32m-> 3628\u001b[0m         \u001b[38;5;28;43mself\u001b[39;49m\u001b[38;5;241;43m.\u001b[39;49m\u001b[43m_check_indexing_error\u001b[49m\u001b[43m(\u001b[49m\u001b[43mkey\u001b[49m\u001b[43m)\u001b[49m\n\u001b[0;32m   3629\u001b[0m         \u001b[38;5;28;01mraise\u001b[39;00m\n\u001b[0;32m   3631\u001b[0m \u001b[38;5;66;03m# GH#42269\u001b[39;00m\n",
      "File \u001b[1;32m~\\Anaconda3\\envs\\web\\lib\\site-packages\\pandas\\core\\indexes\\base.py:5637\u001b[0m, in \u001b[0;36mIndex._check_indexing_error\u001b[1;34m(self, key)\u001b[0m\n\u001b[0;32m   5633\u001b[0m \u001b[38;5;28;01mdef\u001b[39;00m \u001b[38;5;21m_check_indexing_error\u001b[39m(\u001b[38;5;28mself\u001b[39m, key):\n\u001b[0;32m   5634\u001b[0m     \u001b[38;5;28;01mif\u001b[39;00m \u001b[38;5;129;01mnot\u001b[39;00m is_scalar(key):\n\u001b[0;32m   5635\u001b[0m         \u001b[38;5;66;03m# if key is not a scalar, directly raise an error (the code below\u001b[39;00m\n\u001b[0;32m   5636\u001b[0m         \u001b[38;5;66;03m# would convert to numpy arrays and raise later any way) - GH29926\u001b[39;00m\n\u001b[1;32m-> 5637\u001b[0m         \u001b[38;5;28;01mraise\u001b[39;00m InvalidIndexError(key)\n",
      "\u001b[1;31mInvalidIndexError\u001b[0m: (slice(None, None, None), None)"
     ]
    },
    {
     "data": {
      "image/png": "[encoded data removed]",
      "text/plain": [
       "<Figure size 504x252 with 1 Axes>"
      ]
     },
     "metadata": {
      "needs_background": "light"
     },
     "output_type": "display_data"
    }
   ],
   "source": [
    "plt.scatter(X, y, alpha=0.3,color=\"green\")\n",
    "plt.plot(X, lg.predict(X), color='red', linewidth=3)\n",
    "plt.title(\"Final Linear Regression Plot\")\n",
    "plt.plot()"
   ]
  },
  {
   "cell_type": "code",
   "execution_count": null,
   "id": "4ae0df72",
   "metadata": {},
   "outputs": [],
   "source": []
  }
 ],
 "metadata": {
  "kernelspec": {
   "display_name": "Python 3 (ipykernel)",
   "language": "python",
   "name": "python3"
  },
  "language_info": {
   "codemirror_mode": {
    "name": "ipython",
    "version": 3
   },
   "file_extension": ".py",
   "mimetype": "text/x-python",
   "name": "python",
   "nbconvert_exporter": "python",
   "pygments_lexer": "ipython3",
   "version": "3.9.7"
  }
 },
 "nbformat": 4,
 "nbformat_minor": 5
}
