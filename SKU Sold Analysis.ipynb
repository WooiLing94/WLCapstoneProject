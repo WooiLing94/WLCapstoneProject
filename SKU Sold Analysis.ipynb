{
 "cells": [
  {
   "cell_type": "code",
   "execution_count": 1,
   "id": "5a85de11",
   "metadata": {},
   "outputs": [],
   "source": [
    "#for data preprocessing\n",
    "import pandas as pd\n",
    "\n",
    "#for matrix math\n",
    "import numpy as np\n",
    "\n",
    "#for plotting\n",
    "import seaborn as sns                #style setting\n",
    "import matplotlib.pyplot as plt      #graph plotting\n",
    "\n",
    "#Standardise data value\n",
    "from sklearn.preprocessing import StandardScaler\n",
    "\n",
    "#Split data for train and test\n",
    "from sklearn.model_selection import train_test_split\n",
    "\n",
    "#supervised algorithm\n",
    "from sklearn.datasets import make_classification\n",
    "from sklearn.ensemble import RandomForestClassifier\n",
    "from sklearn.linear_model import LogisticRegression\n",
    "from sklearn.svm import SVC\n",
    "from sklearn.neighbors import KNeighborsClassifier\n",
    "from sklearn.naive_bayes import GaussianNB\n",
    "from sklearn.tree import DecisionTreeClassifier\n",
    "\n",
    "#Evaluation\n",
    "from sklearn.metrics import confusion_matrix\n",
    "from sklearn.metrics import accuracy_score, recall_score, precision_score, f1_score\n",
    "\n",
    "#Overfitting avoidance\n",
    "from sklearn import model_selection\n",
    "\n",
    "#remove warning message\n",
    "import warnings\n",
    "warnings.filterwarnings(\"ignore\")"
   ]
  },
  {
   "cell_type": "code",
   "execution_count": 2,
   "id": "92d2ff2a",
   "metadata": {},
   "outputs": [
    {
     "data": {
      "text/html": [
       "<div>\n",
       "<style scoped>\n",
       "    .dataframe tbody tr th:only-of-type {\n",
       "        vertical-align: middle;\n",
       "    }\n",
       "\n",
       "    .dataframe tbody tr th {\n",
       "        vertical-align: top;\n",
       "    }\n",
       "\n",
       "    .dataframe thead th {\n",
       "        text-align: right;\n",
       "    }\n",
       "</style>\n",
       "<table border=\"1\" class=\"dataframe\">\n",
       "  <thead>\n",
       "    <tr style=\"text-align: right;\">\n",
       "      <th></th>\n",
       "      <th>Region</th>\n",
       "      <th>BU_ID</th>\n",
       "      <th>Country</th>\n",
       "      <th>Month_Year</th>\n",
       "      <th>Revenue</th>\n",
       "      <th>SOLD_Status</th>\n",
       "    </tr>\n",
       "  </thead>\n",
       "  <tbody>\n",
       "    <tr>\n",
       "      <th>0</th>\n",
       "      <td>AMER</td>\n",
       "      <td>11</td>\n",
       "      <td>United States</td>\n",
       "      <td>Apr21</td>\n",
       "      <td>265.97</td>\n",
       "      <td>1</td>\n",
       "    </tr>\n",
       "    <tr>\n",
       "      <th>1</th>\n",
       "      <td>AMER</td>\n",
       "      <td>11</td>\n",
       "      <td>United States</td>\n",
       "      <td>Apr21</td>\n",
       "      <td>13.08</td>\n",
       "      <td>1</td>\n",
       "    </tr>\n",
       "    <tr>\n",
       "      <th>2</th>\n",
       "      <td>AMER</td>\n",
       "      <td>11</td>\n",
       "      <td>United States</td>\n",
       "      <td>Apr21</td>\n",
       "      <td>92.00</td>\n",
       "      <td>1</td>\n",
       "    </tr>\n",
       "    <tr>\n",
       "      <th>3</th>\n",
       "      <td>AMER</td>\n",
       "      <td>11</td>\n",
       "      <td>United States</td>\n",
       "      <td>Apr21</td>\n",
       "      <td>77646.33</td>\n",
       "      <td>1</td>\n",
       "    </tr>\n",
       "    <tr>\n",
       "      <th>4</th>\n",
       "      <td>AMER</td>\n",
       "      <td>11</td>\n",
       "      <td>United States</td>\n",
       "      <td>Apr21</td>\n",
       "      <td>478.85</td>\n",
       "      <td>1</td>\n",
       "    </tr>\n",
       "    <tr>\n",
       "      <th>...</th>\n",
       "      <td>...</td>\n",
       "      <td>...</td>\n",
       "      <td>...</td>\n",
       "      <td>...</td>\n",
       "      <td>...</td>\n",
       "      <td>...</td>\n",
       "    </tr>\n",
       "    <tr>\n",
       "      <th>23566</th>\n",
       "      <td>EMEA</td>\n",
       "      <td>6969</td>\n",
       "      <td>South Africa</td>\n",
       "      <td>Jan22</td>\n",
       "      <td>52.91</td>\n",
       "      <td>1</td>\n",
       "    </tr>\n",
       "    <tr>\n",
       "      <th>23567</th>\n",
       "      <td>EMEA</td>\n",
       "      <td>6969</td>\n",
       "      <td>South Africa</td>\n",
       "      <td>Jan22</td>\n",
       "      <td>208.69</td>\n",
       "      <td>1</td>\n",
       "    </tr>\n",
       "    <tr>\n",
       "      <th>23568</th>\n",
       "      <td>EMEA</td>\n",
       "      <td>6969</td>\n",
       "      <td>South Africa</td>\n",
       "      <td>Jan22</td>\n",
       "      <td>102.41</td>\n",
       "      <td>1</td>\n",
       "    </tr>\n",
       "    <tr>\n",
       "      <th>23569</th>\n",
       "      <td>EMEA</td>\n",
       "      <td>6969</td>\n",
       "      <td>South Africa</td>\n",
       "      <td>Jan22</td>\n",
       "      <td>0.00</td>\n",
       "      <td>0</td>\n",
       "    </tr>\n",
       "    <tr>\n",
       "      <th>23570</th>\n",
       "      <td>EMEA</td>\n",
       "      <td>6969</td>\n",
       "      <td>South Africa</td>\n",
       "      <td>Jan22</td>\n",
       "      <td>5936.07</td>\n",
       "      <td>1</td>\n",
       "    </tr>\n",
       "  </tbody>\n",
       "</table>\n",
       "<p>23571 rows × 6 columns</p>\n",
       "</div>"
      ],
      "text/plain": [
       "      Region  BU_ID        Country Month_Year   Revenue  SOLD_Status\n",
       "0       AMER     11  United States      Apr21    265.97            1\n",
       "1       AMER     11  United States      Apr21     13.08            1\n",
       "2       AMER     11  United States      Apr21     92.00            1\n",
       "3       AMER     11  United States      Apr21  77646.33            1\n",
       "4       AMER     11  United States      Apr21    478.85            1\n",
       "...      ...    ...            ...        ...       ...          ...\n",
       "23566   EMEA   6969   South Africa      Jan22     52.91            1\n",
       "23567   EMEA   6969   South Africa      Jan22    208.69            1\n",
       "23568   EMEA   6969   South Africa      Jan22    102.41            1\n",
       "23569   EMEA   6969   South Africa      Jan22      0.00            0\n",
       "23570   EMEA   6969   South Africa      Jan22   5936.07            1\n",
       "\n",
       "[23571 rows x 6 columns]"
      ]
     },
     "execution_count": 2,
     "metadata": {},
     "output_type": "execute_result"
    }
   ],
   "source": [
    "#Load Dataset\n",
    "sold = pd.read_csv('data/SKU Sold Detail.csv')\n",
    "sold"
   ]
  },
  {
   "cell_type": "code",
   "execution_count": 3,
   "id": "a31ffc69",
   "metadata": {},
   "outputs": [
    {
     "data": {
      "image/png": "[encoded data removed]",
      "text/plain": [
       "<Figure size 432x288 with 1 Axes>"
      ]
     },
     "metadata": {
      "needs_background": "light"
     },
     "output_type": "display_data"
    }
   ],
   "source": [
    "region = sold['Region']\n",
    "revenue = sold['Revenue']\n",
    "plt.xlabel('Region')\n",
    "plt.ylabel('Revenue')\n",
    "plt.bar(region,revenue)\n",
    "plt.show()"
   ]
  },
  {
   "cell_type": "code",
   "execution_count": 4,
   "id": "681fc800",
   "metadata": {},
   "outputs": [
    {
     "data": {
      "text/plain": [
       "Region         False\n",
       "BU_ID          False\n",
       "Country        False\n",
       "Month_Year     False\n",
       "Revenue        False\n",
       "SOLD_Status    False\n",
       "dtype: bool"
      ]
     },
     "execution_count": 4,
     "metadata": {},
     "output_type": "execute_result"
    }
   ],
   "source": [
    "#detect missing value in data frame\n",
    "sold.isnull().any()"
   ]
  },
  {
   "cell_type": "code",
   "execution_count": 5,
   "id": "7ab71e48",
   "metadata": {},
   "outputs": [
    {
     "data": {
      "text/html": [
       "<div>\n",
       "<style scoped>\n",
       "    .dataframe tbody tr th:only-of-type {\n",
       "        vertical-align: middle;\n",
       "    }\n",
       "\n",
       "    .dataframe tbody tr th {\n",
       "        vertical-align: top;\n",
       "    }\n",
       "\n",
       "    .dataframe thead th {\n",
       "        text-align: right;\n",
       "    }\n",
       "</style>\n",
       "<table border=\"1\" class=\"dataframe\">\n",
       "  <thead>\n",
       "    <tr style=\"text-align: right;\">\n",
       "      <th></th>\n",
       "      <th>Country</th>\n",
       "      <th>Revenue</th>\n",
       "      <th>SOLD_Status</th>\n",
       "    </tr>\n",
       "  </thead>\n",
       "  <tbody>\n",
       "    <tr>\n",
       "      <th>0</th>\n",
       "      <td>United States</td>\n",
       "      <td>265.97</td>\n",
       "      <td>1</td>\n",
       "    </tr>\n",
       "    <tr>\n",
       "      <th>1</th>\n",
       "      <td>United States</td>\n",
       "      <td>13.08</td>\n",
       "      <td>1</td>\n",
       "    </tr>\n",
       "    <tr>\n",
       "      <th>2</th>\n",
       "      <td>United States</td>\n",
       "      <td>92.00</td>\n",
       "      <td>1</td>\n",
       "    </tr>\n",
       "    <tr>\n",
       "      <th>3</th>\n",
       "      <td>United States</td>\n",
       "      <td>77646.33</td>\n",
       "      <td>1</td>\n",
       "    </tr>\n",
       "    <tr>\n",
       "      <th>4</th>\n",
       "      <td>United States</td>\n",
       "      <td>478.85</td>\n",
       "      <td>1</td>\n",
       "    </tr>\n",
       "  </tbody>\n",
       "</table>\n",
       "</div>"
      ],
      "text/plain": [
       "         Country   Revenue  SOLD_Status\n",
       "0  United States    265.97            1\n",
       "1  United States     13.08            1\n",
       "2  United States     92.00            1\n",
       "3  United States  77646.33            1\n",
       "4  United States    478.85            1"
      ]
     },
     "execution_count": 5,
     "metadata": {},
     "output_type": "execute_result"
    }
   ],
   "source": [
    "numericalData = sold[[\"Country\",\"Revenue\",\"SOLD_Status\"]]\n",
    "numericalData.head()"
   ]
  },
  {
   "cell_type": "code",
   "execution_count": 6,
   "id": "7bdcd491",
   "metadata": {},
   "outputs": [
    {
     "data": {
      "image/png": "[encoded data removed]",
      "text/plain": [
       "<Figure size 1440x720 with 2 Axes>"
      ]
     },
     "metadata": {
      "needs_background": "light"
     },
     "output_type": "display_data"
    }
   ],
   "source": [
    "#format the figure size to 20rows,10cols\n",
    "fig, ax = plt.subplots(figsize = (20,10))\n",
    "\n",
    "#plot graph by Revenue Apr21\n",
    "plt.subplot(221)\n",
    "sns.boxplot(x = numericalData[\"Revenue\"])\n",
    "plt.title(\"Revenue\", fontsize = 20)\n",
    "\n",
    "#plot graph by Revenue Oct21\n",
    "plt.subplot(222)\n",
    "sns.boxplot(x = numericalData[\"SOLD_Status\"])\n",
    "plt.title(\"SOLD Status\", fontsize = 20)\n",
    "\n",
    "plt.tight_layout()\n",
    "plt.show()\n"
   ]
  },
  {
   "cell_type": "code",
   "execution_count": 7,
   "id": "fa090f08",
   "metadata": {},
   "outputs": [
    {
     "name": "stdout",
     "output_type": "stream",
     "text": [
      "Revenue LowerB:  -3122.6525000000006\n",
      "Revenue Upper B:  5245.007500000001\n",
      "SOLD_Status LowerB:  1.0\n",
      "SOLD_Status Upper B:  1.0\n"
     ]
    }
   ],
   "source": [
    "sorted(numericalData['Revenue'])\n",
    "q1, q3, m= np.percentile(numericalData['Revenue'],[25,75,50])\n",
    "iqr = q3 - q1\n",
    "lowerb = q1 - (1.5 * iqr)\n",
    "upperb = q3 + (1.5 * iqr)\n",
    "print(\"Revenue LowerB: \",lowerb)\n",
    "print(\"Revenue Upper B: \",upperb)\n",
    "\n",
    "median = numericalData.loc[numericalData['Revenue']<= upperb,'Revenue'].median()\n",
    "numericalData.loc[numericalData['Revenue']> upperb,'Revenue'] = np.nan\n",
    "numericalData.fillna(median,inplace=True)\n",
    "\n",
    "sorted(numericalData['SOLD_Status'])\n",
    "q1, q3, m= np.percentile(numericalData['SOLD_Status'],[25,75,50])\n",
    "iqr = q3 - q1\n",
    "lowerb = q1 - (1.5 * iqr)\n",
    "upperb = q3 + (1.5 * iqr)\n",
    "print(\"SOLD_Status LowerB: \",lowerb)\n",
    "print(\"SOLD_Status Upper B: \",upperb)\n",
    "\n",
    "median = numericalData.loc[numericalData['SOLD_Status']<= upperb,'SOLD_Status'].median()\n",
    "numericalData.loc[numericalData['SOLD_Status']> upperb,'SOLD_Status'] = np.nan\n",
    "numericalData.fillna(median,inplace=True)"
   ]
  },
  {
   "cell_type": "code",
   "execution_count": 8,
   "id": "3d32a12c",
   "metadata": {},
   "outputs": [
    {
     "data": {
      "text/html": [
       "<div>\n",
       "<style scoped>\n",
       "    .dataframe tbody tr th:only-of-type {\n",
       "        vertical-align: middle;\n",
       "    }\n",
       "\n",
       "    .dataframe tbody tr th {\n",
       "        vertical-align: top;\n",
       "    }\n",
       "\n",
       "    .dataframe thead th {\n",
       "        text-align: right;\n",
       "    }\n",
       "</style>\n",
       "<table border=\"1\" class=\"dataframe\">\n",
       "  <thead>\n",
       "    <tr style=\"text-align: right;\">\n",
       "      <th></th>\n",
       "      <th>Country</th>\n",
       "      <th>Revenue</th>\n",
       "      <th>SOLD_Status</th>\n",
       "    </tr>\n",
       "  </thead>\n",
       "  <tbody>\n",
       "    <tr>\n",
       "      <th>0</th>\n",
       "      <td>United States</td>\n",
       "      <td>265.97</td>\n",
       "      <td>1.0</td>\n",
       "    </tr>\n",
       "    <tr>\n",
       "      <th>1</th>\n",
       "      <td>United States</td>\n",
       "      <td>13.08</td>\n",
       "      <td>1.0</td>\n",
       "    </tr>\n",
       "    <tr>\n",
       "      <th>2</th>\n",
       "      <td>United States</td>\n",
       "      <td>92.00</td>\n",
       "      <td>1.0</td>\n",
       "    </tr>\n",
       "    <tr>\n",
       "      <th>3</th>\n",
       "      <td>United States</td>\n",
       "      <td>117.47</td>\n",
       "      <td>1.0</td>\n",
       "    </tr>\n",
       "    <tr>\n",
       "      <th>4</th>\n",
       "      <td>United States</td>\n",
       "      <td>478.85</td>\n",
       "      <td>1.0</td>\n",
       "    </tr>\n",
       "  </tbody>\n",
       "</table>\n",
       "</div>"
      ],
      "text/plain": [
       "         Country  Revenue  SOLD_Status\n",
       "0  United States   265.97          1.0\n",
       "1  United States    13.08          1.0\n",
       "2  United States    92.00          1.0\n",
       "3  United States   117.47          1.0\n",
       "4  United States   478.85          1.0"
      ]
     },
     "execution_count": 8,
     "metadata": {},
     "output_type": "execute_result"
    }
   ],
   "source": [
    "numericalData.head()"
   ]
  },
  {
   "cell_type": "code",
   "execution_count": 9,
   "id": "f8f4a0f5",
   "metadata": {},
   "outputs": [
    {
     "data": {
      "text/html": [
       "<div>\n",
       "<style scoped>\n",
       "    .dataframe tbody tr th:only-of-type {\n",
       "        vertical-align: middle;\n",
       "    }\n",
       "\n",
       "    .dataframe tbody tr th {\n",
       "        vertical-align: top;\n",
       "    }\n",
       "\n",
       "    .dataframe thead th {\n",
       "        text-align: right;\n",
       "    }\n",
       "</style>\n",
       "<table border=\"1\" class=\"dataframe\">\n",
       "  <thead>\n",
       "    <tr style=\"text-align: right;\">\n",
       "      <th></th>\n",
       "      <th>Region</th>\n",
       "      <th>Country</th>\n",
       "      <th>Month_Year</th>\n",
       "    </tr>\n",
       "  </thead>\n",
       "  <tbody>\n",
       "    <tr>\n",
       "      <th>0</th>\n",
       "      <td>AMER</td>\n",
       "      <td>United States</td>\n",
       "      <td>Apr21</td>\n",
       "    </tr>\n",
       "    <tr>\n",
       "      <th>1</th>\n",
       "      <td>AMER</td>\n",
       "      <td>United States</td>\n",
       "      <td>Apr21</td>\n",
       "    </tr>\n",
       "    <tr>\n",
       "      <th>2</th>\n",
       "      <td>AMER</td>\n",
       "      <td>United States</td>\n",
       "      <td>Apr21</td>\n",
       "    </tr>\n",
       "    <tr>\n",
       "      <th>3</th>\n",
       "      <td>AMER</td>\n",
       "      <td>United States</td>\n",
       "      <td>Apr21</td>\n",
       "    </tr>\n",
       "    <tr>\n",
       "      <th>4</th>\n",
       "      <td>AMER</td>\n",
       "      <td>United States</td>\n",
       "      <td>Apr21</td>\n",
       "    </tr>\n",
       "  </tbody>\n",
       "</table>\n",
       "</div>"
      ],
      "text/plain": [
       "  Region        Country Month_Year\n",
       "0   AMER  United States      Apr21\n",
       "1   AMER  United States      Apr21\n",
       "2   AMER  United States      Apr21\n",
       "3   AMER  United States      Apr21\n",
       "4   AMER  United States      Apr21"
      ]
     },
     "execution_count": 9,
     "metadata": {},
     "output_type": "execute_result"
    }
   ],
   "source": [
    "#categorical data (those that not in numericalData variable)\n",
    "categoricalData = sold[[\"Region\",\"Country\",\"Month_Year\"]]\n",
    "\n",
    "#print\n",
    "categoricalData.head()"
   ]
  },
  {
   "cell_type": "code",
   "execution_count": 10,
   "id": "67569496",
   "metadata": {},
   "outputs": [
    {
     "data": {
      "text/html": [
       "<div>\n",
       "<style scoped>\n",
       "    .dataframe tbody tr th:only-of-type {\n",
       "        vertical-align: middle;\n",
       "    }\n",
       "\n",
       "    .dataframe tbody tr th {\n",
       "        vertical-align: top;\n",
       "    }\n",
       "\n",
       "    .dataframe thead th {\n",
       "        text-align: right;\n",
       "    }\n",
       "</style>\n",
       "<table border=\"1\" class=\"dataframe\">\n",
       "  <thead>\n",
       "    <tr style=\"text-align: right;\">\n",
       "      <th></th>\n",
       "      <th>Region</th>\n",
       "      <th>Country</th>\n",
       "      <th>Month_Year</th>\n",
       "      <th>Revenue</th>\n",
       "      <th>SOLD_Status</th>\n",
       "    </tr>\n",
       "  </thead>\n",
       "  <tbody>\n",
       "    <tr>\n",
       "      <th>0</th>\n",
       "      <td>AMER</td>\n",
       "      <td>United States</td>\n",
       "      <td>Apr21</td>\n",
       "      <td>265.97</td>\n",
       "      <td>1.0</td>\n",
       "    </tr>\n",
       "    <tr>\n",
       "      <th>1</th>\n",
       "      <td>AMER</td>\n",
       "      <td>United States</td>\n",
       "      <td>Apr21</td>\n",
       "      <td>13.08</td>\n",
       "      <td>1.0</td>\n",
       "    </tr>\n",
       "    <tr>\n",
       "      <th>2</th>\n",
       "      <td>AMER</td>\n",
       "      <td>United States</td>\n",
       "      <td>Apr21</td>\n",
       "      <td>92.00</td>\n",
       "      <td>1.0</td>\n",
       "    </tr>\n",
       "    <tr>\n",
       "      <th>3</th>\n",
       "      <td>AMER</td>\n",
       "      <td>United States</td>\n",
       "      <td>Apr21</td>\n",
       "      <td>117.47</td>\n",
       "      <td>1.0</td>\n",
       "    </tr>\n",
       "    <tr>\n",
       "      <th>4</th>\n",
       "      <td>AMER</td>\n",
       "      <td>United States</td>\n",
       "      <td>Apr21</td>\n",
       "      <td>478.85</td>\n",
       "      <td>1.0</td>\n",
       "    </tr>\n",
       "  </tbody>\n",
       "</table>\n",
       "</div>"
      ],
      "text/plain": [
       "  Region        Country Month_Year  Revenue  SOLD_Status\n",
       "0   AMER  United States      Apr21   265.97          1.0\n",
       "1   AMER  United States      Apr21    13.08          1.0\n",
       "2   AMER  United States      Apr21    92.00          1.0\n",
       "3   AMER  United States      Apr21   117.47          1.0\n",
       "4   AMER  United States      Apr21   478.85          1.0"
      ]
     },
     "execution_count": 10,
     "metadata": {},
     "output_type": "execute_result"
    }
   ],
   "source": [
    "#concatenate the categorical data and numerical data together as nwData\n",
    "combine = pd.concat([categoricalData,numericalData.iloc[:,1:]],axis=1)\n",
    "combine.head(5)"
   ]
  },
  {
   "cell_type": "code",
   "execution_count": 11,
   "id": "7daf2f64",
   "metadata": {},
   "outputs": [
    {
     "data": {
      "text/html": [
       "<div>\n",
       "<style scoped>\n",
       "    .dataframe tbody tr th:only-of-type {\n",
       "        vertical-align: middle;\n",
       "    }\n",
       "\n",
       "    .dataframe tbody tr th {\n",
       "        vertical-align: top;\n",
       "    }\n",
       "\n",
       "    .dataframe thead th {\n",
       "        text-align: right;\n",
       "    }\n",
       "</style>\n",
       "<table border=\"1\" class=\"dataframe\">\n",
       "  <thead>\n",
       "    <tr style=\"text-align: right;\">\n",
       "      <th></th>\n",
       "      <th>Revenue</th>\n",
       "      <th>SOLD_Status</th>\n",
       "    </tr>\n",
       "  </thead>\n",
       "  <tbody>\n",
       "    <tr>\n",
       "      <th>count</th>\n",
       "      <td>23571.000000</td>\n",
       "      <td>23571.000000</td>\n",
       "    </tr>\n",
       "    <tr>\n",
       "      <th>mean</th>\n",
       "      <td>529.831439</td>\n",
       "      <td>0.773917</td>\n",
       "    </tr>\n",
       "    <tr>\n",
       "      <th>std</th>\n",
       "      <td>985.140564</td>\n",
       "      <td>0.418302</td>\n",
       "    </tr>\n",
       "    <tr>\n",
       "      <th>min</th>\n",
       "      <td>0.000000</td>\n",
       "      <td>0.000000</td>\n",
       "    </tr>\n",
       "    <tr>\n",
       "      <th>25%</th>\n",
       "      <td>15.220000</td>\n",
       "      <td>1.000000</td>\n",
       "    </tr>\n",
       "    <tr>\n",
       "      <th>50%</th>\n",
       "      <td>117.470000</td>\n",
       "      <td>1.000000</td>\n",
       "    </tr>\n",
       "    <tr>\n",
       "      <th>75%</th>\n",
       "      <td>472.350000</td>\n",
       "      <td>1.000000</td>\n",
       "    </tr>\n",
       "    <tr>\n",
       "      <th>max</th>\n",
       "      <td>5244.720000</td>\n",
       "      <td>1.000000</td>\n",
       "    </tr>\n",
       "  </tbody>\n",
       "</table>\n",
       "</div>"
      ],
      "text/plain": [
       "            Revenue   SOLD_Status\n",
       "count  23571.000000  23571.000000\n",
       "mean     529.831439      0.773917\n",
       "std      985.140564      0.418302\n",
       "min        0.000000      0.000000\n",
       "25%       15.220000      1.000000\n",
       "50%      117.470000      1.000000\n",
       "75%      472.350000      1.000000\n",
       "max     5244.720000      1.000000"
      ]
     },
     "execution_count": 11,
     "metadata": {},
     "output_type": "execute_result"
    }
   ],
   "source": [
    "combine.describe()"
   ]
  },
  {
   "cell_type": "code",
   "execution_count": 12,
   "id": "57803dde",
   "metadata": {},
   "outputs": [],
   "source": [
    "#drop the Revenue_Jan22,Country for x variable that is to be used as the feature selections\n",
    "#choose the Apr21 as the y variable that acts as the label\n",
    "#split the x variable and y variable into test set (30%) and train set (70%)\n",
    "X = combine.drop(['Revenue','Country','Region','Month_Year'],axis=1)\n",
    "y = combine['Revenue']\n",
    "X_train,X_test,y_train,y_test = train_test_split(X,y,test_size=0.3,random_state=0)"
   ]
  },
  {
   "cell_type": "code",
   "execution_count": 13,
   "id": "4227a349",
   "metadata": {},
   "outputs": [],
   "source": [
    "#standardize the numerical data\n",
    "scaler = StandardScaler()\n",
    "X_train = scaler.fit_transform(X_train)\n",
    "X_test = scaler.transform(X_test)"
   ]
  },
  {
   "cell_type": "code",
   "execution_count": 14,
   "id": "a4d1d355",
   "metadata": {},
   "outputs": [],
   "source": [
    "#Random Forest algorithm\n",
    "randomforest = RandomForestClassifier()\n",
    "\n",
    "#train using the algorithm\n",
    "randomforest.fit(X_train,y_train)\n",
    "\n",
    "#use the trained set to do prediction on test set\n",
    "y_pred=randomforest.predict(X_test)"
   ]
  },
  {
   "cell_type": "code",
   "execution_count": 15,
   "id": "67101726",
   "metadata": {},
   "outputs": [
    {
     "name": "stdout",
     "output_type": "stream",
     "text": [
      "Confusion Matrix:  [[1596    0]\n",
      " [   0 5476]]\n",
      "Accuracy Score:  1.0\n",
      "Recall Score:  1.0\n",
      "Precision Score:  1.0\n",
      "F1 Score:  1.0\n"
     ]
    }
   ],
   "source": [
    "#print the confucsion matrix, accuracy score, precision and recall \n",
    "cm=confusion_matrix(y_test,y_pred)\n",
    "print(\"Confusion Matrix: \",cm)\n",
    "print(\"Accuracy Score: \",accuracy_score(y_test,y_pred))\n",
    "print(\"Recall Score: \",recall_score(y_test,y_pred))\n",
    "print(\"Precision Score: \",precision_score(y_test,y_pred))\n",
    "print(\"F1 Score: \",f1_score(y_test,y_pred))"
   ]
  },
  {
   "cell_type": "code",
   "execution_count": 16,
   "id": "cb40c612",
   "metadata": {},
   "outputs": [
    {
     "data": {
      "image/png": "[encoded data removed]",
      "text/plain": [
       "<Figure size 432x288 with 1 Axes>"
      ]
     },
     "metadata": {
      "needs_background": "light"
     },
     "output_type": "display_data"
    }
   ],
   "source": [
    "#plot the confusion matrix\n",
    "plt.clf()\n",
    "plt.imshow(cm, interpolation='nearest', cmap=plt.cm.Wistia)\n",
    "classNames = ['Negative','Positive']\n",
    "plt.title('Random Forest')\n",
    "plt.ylabel('True label')\n",
    "plt.xlabel('Predicted label')\n",
    "tick_marks = np.arange(len(classNames))\n",
    "plt.xticks(tick_marks, classNames, rotation=45)\n",
    "plt.yticks(tick_marks, classNames)\n",
    "s = [['TN','FP'], ['FN', 'TP']]\n",
    "for i in range(2):\n",
    "    for j in range(2):\n",
    "        plt.text(j,i, str(s[i][j])+\" = \"+str(cm[i][j]))\n",
    "plt.show()"
   ]
  },
  {
   "cell_type": "code",
   "execution_count": 17,
   "id": "9bb0dc2d",
   "metadata": {},
   "outputs": [],
   "source": [
    "#Logistic Regression algorithm\n",
    "lr = LogisticRegression()\n",
    "\n",
    "#train using the algorithm\n",
    "lr.fit(X_train, y_train)\n",
    "\n",
    "#use the trained set to do prediction on test set\n",
    "y_pred = lr.predict(X_test)"
   ]
  },
  {
   "cell_type": "code",
   "execution_count": 18,
   "id": "a7261b06",
   "metadata": {},
   "outputs": [
    {
     "name": "stdout",
     "output_type": "stream",
     "text": [
      "Confusion Matrix:  [[1596    0]\n",
      " [ 310 5166]]\n",
      "Accuracy Score:  0.9561651583710408\n",
      "Recall Score:  0.9433893352812271\n",
      "Precision Score:  1.0\n",
      "F1 Score:  0.9708701371922571\n"
     ]
    }
   ],
   "source": [
    "#print the confucsion matrix, accuracy score, precision and recall \n",
    "cm=confusion_matrix(y_test,y_pred)\n",
    "print(\"Confusion Matrix: \",cm)\n",
    "print(\"Accuracy Score: \",accuracy_score(y_test,y_pred))\n",
    "print(\"Recall Score: \",recall_score(y_test,y_pred))\n",
    "print(\"Precision Score: \",precision_score(y_test,y_pred))\n",
    "print(\"F1 Score: \",f1_score(y_test,y_pred))"
   ]
  },
  {
   "cell_type": "code",
   "execution_count": 19,
   "id": "3a8dad64",
   "metadata": {},
   "outputs": [
    {
     "data": {
      "image/png": "[encoded data removed]",
      "text/plain": [
       "<Figure size 432x288 with 1 Axes>"
      ]
     },
     "metadata": {
      "needs_background": "light"
     },
     "output_type": "display_data"
    }
   ],
   "source": [
    "#plot the confusion matrix\n",
    "plt.clf()\n",
    "plt.imshow(cm, interpolation='nearest', cmap=plt.cm.Wistia)\n",
    "classNames = ['Negative','Positive']\n",
    "plt.title('Logistic Regression')\n",
    "plt.ylabel('True label')\n",
    "plt.xlabel('Predicted label')\n",
    "tick_marks = np.arange(len(classNames))\n",
    "plt.xticks(tick_marks, classNames, rotation=45)\n",
    "plt.yticks(tick_marks, classNames)\n",
    "s = [['TN','FP'], ['FN', 'TP']]\n",
    "for i in range(2):\n",
    "    for j in range(2):\n",
    "        plt.text(j,i, str(s[i][j])+\" = \"+str(cm[i][j]))\n",
    "plt.show()"
   ]
  },
  {
   "cell_type": "code",
   "execution_count": 20,
   "id": "e92176a1",
   "metadata": {},
   "outputs": [],
   "source": [
    "#Support Vector Machine algorithm\n",
    "svc=SVC()\n",
    "\n",
    "#train using the algorithm\n",
    "svc.fit(X_train,y_train)\n",
    "\n",
    "#use the trained set to do prediction on test set\n",
    "y_pred=svc.predict(X_test)"
   ]
  },
  {
   "cell_type": "code",
   "execution_count": 21,
   "id": "901ef874",
   "metadata": {},
   "outputs": [
    {
     "name": "stdout",
     "output_type": "stream",
     "text": [
      "Confusion Matrix:  [[1596    0]\n",
      " [ 224 5252]]\n",
      "Accuracy Score:  0.9683257918552036\n",
      "Recall Score:  0.9590942293644996\n",
      "Precision Score:  1.0\n",
      "F1 Score:  0.9791200596569724\n"
     ]
    }
   ],
   "source": [
    "#print the confucsion matrix, accuracy score, precision and recall \n",
    "cm=confusion_matrix(y_test,y_pred)\n",
    "print(\"Confusion Matrix: \",cm)\n",
    "print(\"Accuracy Score: \",accuracy_score(y_test,y_pred))\n",
    "print(\"Recall Score: \",recall_score(y_test,y_pred))\n",
    "print(\"Precision Score: \",precision_score(y_test,y_pred))\n",
    "print(\"F1 Score: \",f1_score(y_test,y_pred))"
   ]
  },
  {
   "cell_type": "code",
   "execution_count": 22,
   "id": "4ae78067",
   "metadata": {},
   "outputs": [
    {
     "data": {
      "image/png": "[encoded data removed]",
      "text/plain": [
       "<Figure size 432x288 with 1 Axes>"
      ]
     },
     "metadata": {
      "needs_background": "light"
     },
     "output_type": "display_data"
    }
   ],
   "source": [
    "#plot the confusion matrix\n",
    "plt.clf()\n",
    "plt.imshow(cm, interpolation='nearest', cmap=plt.cm.Wistia)\n",
    "classNames = ['Negative','Positive']\n",
    "plt.title('SVC')\n",
    "plt.ylabel('True label')\n",
    "plt.xlabel('Predicted label')\n",
    "tick_marks = np.arange(len(classNames))\n",
    "plt.xticks(tick_marks, classNames, rotation=45)\n",
    "plt.yticks(tick_marks, classNames)\n",
    "s = [['TN','FP'], ['FN', 'TP']]\n",
    "for i in range(2):\n",
    "    for j in range(2):\n",
    "        plt.text(j,i, str(s[i][j])+\" = \"+str(cm[i][j]))\n",
    "plt.show()"
   ]
  },
  {
   "cell_type": "code",
   "execution_count": 23,
   "id": "4d6cbebf",
   "metadata": {},
   "outputs": [],
   "source": [
    "#K-Nearest Neighbour algorithm\n",
    "neigh = KNeighborsClassifier(n_neighbors=3)\n",
    "\n",
    "#train using the algorithm\n",
    "neigh.fit(X_train,y_train) \n",
    "\n",
    "#use the trained set to do prediction on test set\n",
    "y_pred=neigh.predict(X_test)"
   ]
  },
  {
   "cell_type": "code",
   "execution_count": 24,
   "id": "680e0b2a",
   "metadata": {},
   "outputs": [
    {
     "name": "stdout",
     "output_type": "stream",
     "text": [
      "Confusion Matrix:  [[1596    0]\n",
      " [   0 5476]]\n",
      "Accuracy Score:  1.0\n",
      "Recall Score:  1.0\n",
      "Precision Score:  1.0\n",
      "F1 Score:  1.0\n"
     ]
    }
   ],
   "source": [
    "#print the confucsion matrix, accuracy score, precision and recall \n",
    "cm=confusion_matrix(y_test,y_pred)\n",
    "print(\"Confusion Matrix: \",cm)\n",
    "print(\"Accuracy Score: \",accuracy_score(y_test,y_pred))\n",
    "print(\"Recall Score: \",recall_score(y_test,y_pred))\n",
    "print(\"Precision Score: \",precision_score(y_test,y_pred))\n",
    "print(\"F1 Score: \",f1_score(y_test,y_pred))"
   ]
  },
  {
   "cell_type": "code",
   "execution_count": 25,
   "id": "577bb7f2",
   "metadata": {},
   "outputs": [
    {
     "data": {
      "image/png": "[encoded data removed]",
      "text/plain": [
       "<Figure size 432x288 with 1 Axes>"
      ]
     },
     "metadata": {
      "needs_background": "light"
     },
     "output_type": "display_data"
    }
   ],
   "source": [
    "#plot the confusion matrix\n",
    "plt.clf()\n",
    "plt.imshow(cm, interpolation='nearest', cmap=plt.cm.Wistia)\n",
    "classNames = ['Negative','Positive']\n",
    "plt.title('K-nearest Neighbors')\n",
    "plt.ylabel('True label')\n",
    "plt.xlabel('Predicted label')\n",
    "tick_marks = np.arange(len(classNames))\n",
    "plt.xticks(tick_marks, classNames, rotation=45)\n",
    "plt.yticks(tick_marks, classNames)\n",
    "s = [['TN','FP'], ['FN', 'TP']]\n",
    "for i in range(2):\n",
    "    for j in range(2):\n",
    "        plt.text(j,i, str(s[i][j])+\" = \"+str(cm[i][j]))\n",
    "plt.show()"
   ]
  },
  {
   "cell_type": "code",
   "execution_count": 26,
   "id": "ef8fd93b",
   "metadata": {},
   "outputs": [],
   "source": [
    "#Gaussian Naive Bayes algorithm\n",
    "nb = GaussianNB()\n",
    "\n",
    "#train using the algorithm\n",
    "nb.fit(X_train,y_train)\n",
    "\n",
    "#use the trained set to do prediction on test set\n",
    "y_pred=nb.predict(X_test)"
   ]
  },
  {
   "cell_type": "code",
   "execution_count": 27,
   "id": "e4c39764",
   "metadata": {},
   "outputs": [
    {
     "name": "stdout",
     "output_type": "stream",
     "text": [
      "Confusion Matrix:  [[1596    0]\n",
      " [   0 5476]]\n",
      "Accuracy Score:  1.0\n",
      "Recall Score:  1.0\n",
      "Precision Score:  1.0\n",
      "F1 Score:  1.0\n"
     ]
    }
   ],
   "source": [
    "#print the confucsion matrix, accuracy score, precision and recall \n",
    "cm=confusion_matrix(y_test,y_pred)\n",
    "print(\"Confusion Matrix: \",cm)\n",
    "print(\"Accuracy Score: \",accuracy_score(y_test,y_pred))\n",
    "print(\"Recall Score: \",recall_score(y_test,y_pred))\n",
    "print(\"Precision Score: \",precision_score(y_test,y_pred))\n",
    "print(\"F1 Score: \",f1_score(y_test,y_pred))"
   ]
  },
  {
   "cell_type": "code",
   "execution_count": 28,
   "id": "d92b2c98",
   "metadata": {},
   "outputs": [
    {
     "data": {
      "image/png": "[encoded data removed]",
      "text/plain": [
       "<Figure size 432x288 with 1 Axes>"
      ]
     },
     "metadata": {
      "needs_background": "light"
     },
     "output_type": "display_data"
    }
   ],
   "source": [
    "#plot the confusion matrix\n",
    "plt.clf()\n",
    "plt.imshow(cm, interpolation='nearest', cmap=plt.cm.Wistia)\n",
    "classNames = ['Negative','Positive']\n",
    "plt.title('Gaussian Naive Bayes')\n",
    "plt.ylabel('True label')\n",
    "plt.xlabel('Predicted label')\n",
    "tick_marks = np.arange(len(classNames))\n",
    "plt.xticks(tick_marks, classNames, rotation=45)\n",
    "plt.yticks(tick_marks, classNames)\n",
    "s = [['TN','FP'], ['FN', 'TP']]\n",
    "for i in range(2):\n",
    "    for j in range(2):\n",
    "        plt.text(j,i, str(s[i][j])+\" = \"+str(cm[i][j]))\n",
    "plt.show()"
   ]
  },
  {
   "cell_type": "code",
   "execution_count": 29,
   "id": "34fa778a",
   "metadata": {},
   "outputs": [],
   "source": [
    "#Decision Tree algorithm\n",
    "dt = DecisionTreeClassifier()\n",
    "\n",
    "#train using the algorithm\n",
    "dt.fit(X_train,y_train)\n",
    "\n",
    "#use the trained set to do prediction on test set\n",
    "y_pred=dt.predict(X_test)"
   ]
  },
  {
   "cell_type": "code",
   "execution_count": 30,
   "id": "21413dbe",
   "metadata": {},
   "outputs": [
    {
     "name": "stdout",
     "output_type": "stream",
     "text": [
      "Confusion Matrix:  [[1596    0]\n",
      " [   0 5476]]\n",
      "Accuracy Score:  1.0\n",
      "Recall Score:  1.0\n",
      "Precision Score:  1.0\n",
      "F1 Score:  1.0\n"
     ]
    }
   ],
   "source": [
    "#print the confucsion matrix, accuracy score, precision and recall \n",
    "cm=confusion_matrix(y_test,y_pred)\n",
    "print(\"Confusion Matrix: \",cm)\n",
    "print(\"Accuracy Score: \",accuracy_score(y_test,y_pred))\n",
    "print(\"Recall Score: \",recall_score(y_test,y_pred))\n",
    "print(\"Precision Score: \",precision_score(y_test,y_pred))\n",
    "print(\"F1 Score: \",f1_score(y_test,y_pred))"
   ]
  },
  {
   "cell_type": "code",
   "execution_count": 31,
   "id": "61cc3bfe",
   "metadata": {},
   "outputs": [
    {
     "data": {
      "image/png": "[encoded data removed]",
      "text/plain": [
       "<Figure size 432x288 with 1 Axes>"
      ]
     },
     "metadata": {
      "needs_background": "light"
     },
     "output_type": "display_data"
    }
   ],
   "source": [
    "#plot the confusion matrix\n",
    "plt.clf()\n",
    "plt.imshow(cm, interpolation='nearest', cmap=plt.cm.Wistia)\n",
    "classNames = ['Negative','Positive']\n",
    "plt.title('Decision Tree')\n",
    "plt.ylabel('True label')\n",
    "plt.xlabel('Predicted label')\n",
    "tick_marks = np.arange(len(classNames))\n",
    "plt.xticks(tick_marks, classNames, rotation=45)\n",
    "plt.yticks(tick_marks, classNames)\n",
    "s = [['TN','FP'], ['FN', 'TP']]\n",
    "for i in range(2):\n",
    "    for j in range(2):\n",
    "        plt.text(j,i, str(s[i][j])+\" = \"+str(cm[i][j]))\n",
    "plt.show()"
   ]
  },
  {
   "cell_type": "code",
   "execution_count": 32,
   "id": "969891bc",
   "metadata": {},
   "outputs": [
    {
     "name": "stdout",
     "output_type": "stream",
     "text": [
      "Accuracy: 99.932% \n",
      "Standard deviation: 0.034% \n"
     ]
    }
   ],
   "source": [
    "#Overfitting avoidance\n",
    "model = LogisticRegression()\n",
    "kfold = model_selection.KFold(n_splits=5)\n",
    "results = model_selection.cross_val_score(model, X, y, cv=kfold)\n",
    "print(\"Accuracy: %.3f%% \" % (results.mean()*100.0))\n",
    "print(\"Standard deviation: %.3f%% \" % (results.std()*100.0))"
   ]
  }
 ],
 "metadata": {
  "kernelspec": {
   "display_name": "Python 3 (ipykernel)",
   "language": "python",
   "name": "python3"
  },
  "language_info": {
   "codemirror_mode": {
    "name": "ipython",
    "version": 3
   },
   "file_extension": ".py",
   "mimetype": "text/x-python",
   "name": "python",
   "nbconvert_exporter": "python",
   "pygments_lexer": "ipython3",
   "version": "3.9.7"
  }
 },
 "nbformat": 4,
 "nbformat_minor": 5
}
