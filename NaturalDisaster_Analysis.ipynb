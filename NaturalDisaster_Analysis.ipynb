{
 "cells": [
  {
   "cell_type": "code",
   "execution_count": 87,
   "id": "0c42a30e",
   "metadata": {},
   "outputs": [],
   "source": [
    "import pandas as pd\n",
    "import numpy as np\n",
    "import re\n",
    "from matplotlib import pyplot as plt"
   ]
  },
  {
   "cell_type": "code",
   "execution_count": 88,
   "id": "b000163f",
   "metadata": {},
   "outputs": [
    {
     "data": {
      "text/html": [
       "<div>\n",
       "<style scoped>\n",
       "    .dataframe tbody tr th:only-of-type {\n",
       "        vertical-align: middle;\n",
       "    }\n",
       "\n",
       "    .dataframe tbody tr th {\n",
       "        vertical-align: top;\n",
       "    }\n",
       "\n",
       "    .dataframe thead th {\n",
       "        text-align: right;\n",
       "    }\n",
       "</style>\n",
       "<table border=\"1\" class=\"dataframe\">\n",
       "  <thead>\n",
       "    <tr style=\"text-align: right;\">\n",
       "      <th></th>\n",
       "      <th>Country</th>\n",
       "      <th>Extreme temperature</th>\n",
       "      <th>Wildfire</th>\n",
       "      <th>Storms</th>\n",
       "      <th>Landslides</th>\n",
       "      <th>Mass movement (dry)</th>\n",
       "      <th>Volcanic activity</th>\n",
       "      <th>Earthquakes</th>\n",
       "      <th>Flood</th>\n",
       "      <th>Drought</th>\n",
       "    </tr>\n",
       "  </thead>\n",
       "  <tbody>\n",
       "    <tr>\n",
       "      <th>0</th>\n",
       "      <td>Afghanistan</td>\n",
       "      <td>4.50</td>\n",
       "      <td>0.0</td>\n",
       "      <td>15.10</td>\n",
       "      <td>84.80</td>\n",
       "      <td>0.0</td>\n",
       "      <td>0.0</td>\n",
       "      <td>21.70</td>\n",
       "      <td>137.00</td>\n",
       "      <td>0.00</td>\n",
       "    </tr>\n",
       "    <tr>\n",
       "      <th>1</th>\n",
       "      <td>Africa</td>\n",
       "      <td>14.50</td>\n",
       "      <td>7.1</td>\n",
       "      <td>291.60</td>\n",
       "      <td>242.50</td>\n",
       "      <td>0.0</td>\n",
       "      <td>0.0</td>\n",
       "      <td>3.10</td>\n",
       "      <td>724.50</td>\n",
       "      <td>2,000.00</td>\n",
       "    </tr>\n",
       "    <tr>\n",
       "      <th>2</th>\n",
       "      <td>Albania</td>\n",
       "      <td>1.10</td>\n",
       "      <td>0.0</td>\n",
       "      <td>0.00</td>\n",
       "      <td>0.00</td>\n",
       "      <td>0.0</td>\n",
       "      <td>0.0</td>\n",
       "      <td>5.10</td>\n",
       "      <td>0.40</td>\n",
       "      <td>0.00</td>\n",
       "    </tr>\n",
       "    <tr>\n",
       "      <th>3</th>\n",
       "      <td>Algeria</td>\n",
       "      <td>0.80</td>\n",
       "      <td>0.0</td>\n",
       "      <td>0.00</td>\n",
       "      <td>0.00</td>\n",
       "      <td>0.0</td>\n",
       "      <td>0.0</td>\n",
       "      <td>0.60</td>\n",
       "      <td>9.70</td>\n",
       "      <td>0.00</td>\n",
       "    </tr>\n",
       "    <tr>\n",
       "      <th>4</th>\n",
       "      <td>American Samoa</td>\n",
       "      <td>NaN</td>\n",
       "      <td>NaN</td>\n",
       "      <td>NaN</td>\n",
       "      <td>NaN</td>\n",
       "      <td>NaN</td>\n",
       "      <td>NaN</td>\n",
       "      <td>NaN</td>\n",
       "      <td>NaN</td>\n",
       "      <td>NaN</td>\n",
       "    </tr>\n",
       "  </tbody>\n",
       "</table>\n",
       "</div>"
      ],
      "text/plain": [
       "          Country Extreme temperature  Wildfire  Storms Landslides  \\\n",
       "0     Afghanistan                4.50       0.0   15.10      84.80   \n",
       "1          Africa               14.50       7.1  291.60     242.50   \n",
       "2         Albania                1.10       0.0    0.00       0.00   \n",
       "3         Algeria                0.80       0.0    0.00       0.00   \n",
       "4  American Samoa                 NaN       NaN     NaN        NaN   \n",
       "\n",
       "   Mass movement (dry)  Volcanic activity Earthquakes   Flood   Drought  \n",
       "0                  0.0                0.0       21.70  137.00      0.00  \n",
       "1                  0.0                0.0        3.10  724.50  2,000.00  \n",
       "2                  0.0                0.0        5.10    0.40      0.00  \n",
       "3                  0.0                0.0        0.60    9.70      0.00  \n",
       "4                  NaN                NaN         NaN     NaN       NaN  "
      ]
     },
     "execution_count": 88,
     "metadata": {},
     "output_type": "execute_result"
    }
   ],
   "source": [
    "df = pd.read_csv('naturalDisaster.csv')\n",
    "df.head()"
   ]
  },
  {
   "cell_type": "code",
   "execution_count": 89,
   "id": "a888f7b1",
   "metadata": {},
   "outputs": [],
   "source": [
    "df.drop(['Extreme temperature','Mass movement (dry)','Volcanic activity','Drought'], axis = 1, inplace = True)"
   ]
  },
  {
   "cell_type": "code",
   "execution_count": 90,
   "id": "e5507383",
   "metadata": {},
   "outputs": [],
   "source": [
    "df = df[df[\"Country\"].str.contains(\"income\")==False]"
   ]
  },
  {
   "cell_type": "code",
   "execution_count": 91,
   "id": "69a3e945",
   "metadata": {},
   "outputs": [
    {
     "data": {
      "text/html": [
       "<div>\n",
       "<style scoped>\n",
       "    .dataframe tbody tr th:only-of-type {\n",
       "        vertical-align: middle;\n",
       "    }\n",
       "\n",
       "    .dataframe tbody tr th {\n",
       "        vertical-align: top;\n",
       "    }\n",
       "\n",
       "    .dataframe thead th {\n",
       "        text-align: right;\n",
       "    }\n",
       "</style>\n",
       "<table border=\"1\" class=\"dataframe\">\n",
       "  <thead>\n",
       "    <tr style=\"text-align: right;\">\n",
       "      <th></th>\n",
       "      <th>Country</th>\n",
       "      <th>Wildfire</th>\n",
       "      <th>Storms</th>\n",
       "      <th>Landslides</th>\n",
       "      <th>Earthquakes</th>\n",
       "      <th>Flood</th>\n",
       "    </tr>\n",
       "  </thead>\n",
       "  <tbody>\n",
       "    <tr>\n",
       "      <th>0</th>\n",
       "      <td>Afghanistan</td>\n",
       "      <td>0.0</td>\n",
       "      <td>15.10</td>\n",
       "      <td>84.80</td>\n",
       "      <td>21.70</td>\n",
       "      <td>137.00</td>\n",
       "    </tr>\n",
       "    <tr>\n",
       "      <th>1</th>\n",
       "      <td>Africa</td>\n",
       "      <td>7.1</td>\n",
       "      <td>291.60</td>\n",
       "      <td>242.50</td>\n",
       "      <td>3.10</td>\n",
       "      <td>724.50</td>\n",
       "    </tr>\n",
       "    <tr>\n",
       "      <th>2</th>\n",
       "      <td>Albania</td>\n",
       "      <td>0.0</td>\n",
       "      <td>0.00</td>\n",
       "      <td>0.00</td>\n",
       "      <td>5.10</td>\n",
       "      <td>0.40</td>\n",
       "    </tr>\n",
       "    <tr>\n",
       "      <th>3</th>\n",
       "      <td>Algeria</td>\n",
       "      <td>0.0</td>\n",
       "      <td>0.00</td>\n",
       "      <td>0.00</td>\n",
       "      <td>0.60</td>\n",
       "      <td>9.70</td>\n",
       "    </tr>\n",
       "    <tr>\n",
       "      <th>4</th>\n",
       "      <td>American Samoa</td>\n",
       "      <td>NaN</td>\n",
       "      <td>NaN</td>\n",
       "      <td>NaN</td>\n",
       "      <td>NaN</td>\n",
       "      <td>NaN</td>\n",
       "    </tr>\n",
       "  </tbody>\n",
       "</table>\n",
       "</div>"
      ],
      "text/plain": [
       "          Country  Wildfire  Storms Landslides Earthquakes   Flood\n",
       "0     Afghanistan       0.0   15.10      84.80       21.70  137.00\n",
       "1          Africa       7.1  291.60     242.50        3.10  724.50\n",
       "2         Albania       0.0    0.00       0.00        5.10    0.40\n",
       "3         Algeria       0.0    0.00       0.00        0.60    9.70\n",
       "4  American Samoa       NaN     NaN        NaN         NaN     NaN"
      ]
     },
     "execution_count": 91,
     "metadata": {},
     "output_type": "execute_result"
    }
   ],
   "source": [
    "df.head()"
   ]
  },
  {
   "cell_type": "code",
   "execution_count": 92,
   "id": "bf1b0275",
   "metadata": {},
   "outputs": [
    {
     "name": "stdout",
     "output_type": "stream",
     "text": [
      "<class 'pandas.core.frame.DataFrame'>\n",
      "Int64Index: 222 entries, 0 to 225\n",
      "Data columns (total 6 columns):\n",
      " #   Column       Non-Null Count  Dtype  \n",
      "---  ------       --------------  -----  \n",
      " 0   Country      222 non-null    object \n",
      " 1   Wildfire     203 non-null    float64\n",
      " 2   Storms       203 non-null    object \n",
      " 3   Landslides   203 non-null    object \n",
      " 4   Earthquakes  203 non-null    object \n",
      " 5   Flood        200 non-null    float64\n",
      "dtypes: float64(2), object(4)\n",
      "memory usage: 12.1+ KB\n"
     ]
    }
   ],
   "source": [
    "df['Flood'] = pd.to_numeric(df['Flood'],errors='coerce')\n",
    "df.info()"
   ]
  },
  {
   "cell_type": "code",
   "execution_count": 93,
   "id": "dc232825",
   "metadata": {},
   "outputs": [],
   "source": [
    "df = df.replace(np.nan, 0)"
   ]
  },
  {
   "cell_type": "code",
   "execution_count": 94,
   "id": "34a220e5",
   "metadata": {},
   "outputs": [],
   "source": [
    "df= df[df['Flood'] > 150]"
   ]
  },
  {
   "cell_type": "code",
   "execution_count": 95,
   "id": "2ab925d2",
   "metadata": {},
   "outputs": [
    {
     "data": {
      "text/html": [
       "<div>\n",
       "<style scoped>\n",
       "    .dataframe tbody tr th:only-of-type {\n",
       "        vertical-align: middle;\n",
       "    }\n",
       "\n",
       "    .dataframe tbody tr th {\n",
       "        vertical-align: top;\n",
       "    }\n",
       "\n",
       "    .dataframe thead th {\n",
       "        text-align: right;\n",
       "    }\n",
       "</style>\n",
       "<table border=\"1\" class=\"dataframe\">\n",
       "  <thead>\n",
       "    <tr style=\"text-align: right;\">\n",
       "      <th></th>\n",
       "      <th>Country</th>\n",
       "      <th>Wildfire</th>\n",
       "      <th>Storms</th>\n",
       "      <th>Landslides</th>\n",
       "      <th>Earthquakes</th>\n",
       "      <th>Flood</th>\n",
       "    </tr>\n",
       "  </thead>\n",
       "  <tbody>\n",
       "    <tr>\n",
       "      <th>1</th>\n",
       "      <td>Africa</td>\n",
       "      <td>7.1</td>\n",
       "      <td>291.60</td>\n",
       "      <td>242.50</td>\n",
       "      <td>3.10</td>\n",
       "      <td>724.5</td>\n",
       "    </tr>\n",
       "    <tr>\n",
       "      <th>26</th>\n",
       "      <td>Brazil</td>\n",
       "      <td>0.0</td>\n",
       "      <td>0.40</td>\n",
       "      <td>3.00</td>\n",
       "      <td>0.00</td>\n",
       "      <td>161.6</td>\n",
       "    </tr>\n",
       "    <tr>\n",
       "      <th>40</th>\n",
       "      <td>China</td>\n",
       "      <td>5.2</td>\n",
       "      <td>159.30</td>\n",
       "      <td>274.70</td>\n",
       "      <td>421.90</td>\n",
       "      <td>622.7</td>\n",
       "    </tr>\n",
       "    <tr>\n",
       "      <th>148</th>\n",
       "      <td>Pakistan</td>\n",
       "      <td>0.0</td>\n",
       "      <td>13.80</td>\n",
       "      <td>21.20</td>\n",
       "      <td>79.20</td>\n",
       "      <td>484.5</td>\n",
       "    </tr>\n",
       "    <tr>\n",
       "      <th>184</th>\n",
       "      <td>South America</td>\n",
       "      <td>7.9</td>\n",
       "      <td>8.50</td>\n",
       "      <td>101.90</td>\n",
       "      <td>128.40</td>\n",
       "      <td>389.1</td>\n",
       "    </tr>\n",
       "  </tbody>\n",
       "</table>\n",
       "</div>"
      ],
      "text/plain": [
       "           Country  Wildfire  Storms Landslides Earthquakes  Flood\n",
       "1           Africa       7.1  291.60     242.50        3.10  724.5\n",
       "26          Brazil       0.0    0.40       3.00        0.00  161.6\n",
       "40           China       5.2  159.30     274.70      421.90  622.7\n",
       "148       Pakistan       0.0   13.80      21.20       79.20  484.5\n",
       "184  South America       7.9    8.50     101.90      128.40  389.1"
      ]
     },
     "execution_count": 95,
     "metadata": {},
     "output_type": "execute_result"
    }
   ],
   "source": [
    "df"
   ]
  },
  {
   "cell_type": "code",
   "execution_count": 96,
   "id": "4b0bd492",
   "metadata": {},
   "outputs": [
    {
     "data": {
      "text/plain": [
       "26     161.6\n",
       "184    389.1\n",
       "148    484.5\n",
       "40     622.7\n",
       "1      724.5\n",
       "Name: Flood, dtype: float64"
      ]
     },
     "execution_count": 96,
     "metadata": {},
     "output_type": "execute_result"
    }
   ],
   "source": [
    "df['Flood'].sort_values()"
   ]
  },
  {
   "cell_type": "code",
   "execution_count": 97,
   "id": "dde32e7a",
   "metadata": {
    "scrolled": true
   },
   "outputs": [
    {
     "data": {
      "image/png": "[encoded data removed]",
      "text/plain": [
       "<Figure size 432x288 with 1 Axes>"
      ]
     },
     "metadata": {
      "needs_background": "light"
     },
     "output_type": "display_data"
    }
   ],
   "source": [
    "x = df['Country']\n",
    "y = df['Flood']\n",
    "\n",
    "plt.xlabel('Country')\n",
    "plt.ylabel('Flood')\n",
    "plt.bar(x,y)\n",
    "plt.show()"
   ]
  },
  {
   "cell_type": "code",
   "execution_count": 98,
   "id": "9d573c7e",
   "metadata": {},
   "outputs": [
    {
     "name": "stdout",
     "output_type": "stream",
     "text": [
      "<class 'pandas.core.frame.DataFrame'>\n",
      "Int64Index: 5 entries, 1 to 184\n",
      "Data columns (total 6 columns):\n",
      " #   Column       Non-Null Count  Dtype  \n",
      "---  ------       --------------  -----  \n",
      " 0   Country      5 non-null      object \n",
      " 1   Wildfire     5 non-null      float64\n",
      " 2   Storms       5 non-null      object \n",
      " 3   Landslides   5 non-null      object \n",
      " 4   Earthquakes  5 non-null      object \n",
      " 5   Flood        5 non-null      float64\n",
      "dtypes: float64(2), object(4)\n",
      "memory usage: 280.0+ bytes\n"
     ]
    }
   ],
   "source": [
    "df['Wildfire'] = pd.to_numeric(df['Wildfire'],errors='coerce')\n",
    "df.info()"
   ]
  },
  {
   "cell_type": "code",
   "execution_count": 99,
   "id": "e8321d41",
   "metadata": {},
   "outputs": [],
   "source": [
    "df = df.replace(np.nan, 0)"
   ]
  },
  {
   "cell_type": "code",
   "execution_count": 100,
   "id": "3f20e877",
   "metadata": {},
   "outputs": [
    {
     "data": {
      "text/html": [
       "<div>\n",
       "<style scoped>\n",
       "    .dataframe tbody tr th:only-of-type {\n",
       "        vertical-align: middle;\n",
       "    }\n",
       "\n",
       "    .dataframe tbody tr th {\n",
       "        vertical-align: top;\n",
       "    }\n",
       "\n",
       "    .dataframe thead th {\n",
       "        text-align: right;\n",
       "    }\n",
       "</style>\n",
       "<table border=\"1\" class=\"dataframe\">\n",
       "  <thead>\n",
       "    <tr style=\"text-align: right;\">\n",
       "      <th></th>\n",
       "      <th>Country</th>\n",
       "      <th>Wildfire</th>\n",
       "      <th>Storms</th>\n",
       "      <th>Landslides</th>\n",
       "      <th>Earthquakes</th>\n",
       "      <th>Flood</th>\n",
       "    </tr>\n",
       "  </thead>\n",
       "  <tbody>\n",
       "    <tr>\n",
       "      <th>1</th>\n",
       "      <td>Africa</td>\n",
       "      <td>7.1</td>\n",
       "      <td>291.60</td>\n",
       "      <td>242.50</td>\n",
       "      <td>3.10</td>\n",
       "      <td>724.5</td>\n",
       "    </tr>\n",
       "    <tr>\n",
       "      <th>26</th>\n",
       "      <td>Brazil</td>\n",
       "      <td>0.0</td>\n",
       "      <td>0.40</td>\n",
       "      <td>3.00</td>\n",
       "      <td>0.00</td>\n",
       "      <td>161.6</td>\n",
       "    </tr>\n",
       "    <tr>\n",
       "      <th>40</th>\n",
       "      <td>China</td>\n",
       "      <td>5.2</td>\n",
       "      <td>159.30</td>\n",
       "      <td>274.70</td>\n",
       "      <td>421.90</td>\n",
       "      <td>622.7</td>\n",
       "    </tr>\n",
       "    <tr>\n",
       "      <th>148</th>\n",
       "      <td>Pakistan</td>\n",
       "      <td>0.0</td>\n",
       "      <td>13.80</td>\n",
       "      <td>21.20</td>\n",
       "      <td>79.20</td>\n",
       "      <td>484.5</td>\n",
       "    </tr>\n",
       "    <tr>\n",
       "      <th>184</th>\n",
       "      <td>South America</td>\n",
       "      <td>7.9</td>\n",
       "      <td>8.50</td>\n",
       "      <td>101.90</td>\n",
       "      <td>128.40</td>\n",
       "      <td>389.1</td>\n",
       "    </tr>\n",
       "  </tbody>\n",
       "</table>\n",
       "</div>"
      ],
      "text/plain": [
       "           Country  Wildfire  Storms Landslides Earthquakes  Flood\n",
       "1           Africa       7.1  291.60     242.50        3.10  724.5\n",
       "26          Brazil       0.0    0.40       3.00        0.00  161.6\n",
       "40           China       5.2  159.30     274.70      421.90  622.7\n",
       "148       Pakistan       0.0   13.80      21.20       79.20  484.5\n",
       "184  South America       7.9    8.50     101.90      128.40  389.1"
      ]
     },
     "execution_count": 100,
     "metadata": {},
     "output_type": "execute_result"
    }
   ],
   "source": [
    "df"
   ]
  },
  {
   "cell_type": "code",
   "execution_count": 69,
   "id": "a39e1893",
   "metadata": {},
   "outputs": [
    {
     "data": {
      "text/plain": [
       "Series([], Name: Wildfire, dtype: float64)"
      ]
     },
     "execution_count": 69,
     "metadata": {},
     "output_type": "execute_result"
    }
   ],
   "source": [
    "df['Wildfire'].sort_values()"
   ]
  },
  {
   "cell_type": "code",
   "execution_count": 47,
   "id": "bf7aa53f",
   "metadata": {},
   "outputs": [
    {
     "data": {
      "image/png": "[encoded data removed]",
      "text/plain": [
       "<Figure size 432x288 with 1 Axes>"
      ]
     },
     "metadata": {
      "needs_background": "light"
     },
     "output_type": "display_data"
    }
   ],
   "source": [
    "x = df['Country']\n",
    "y = df['Wildfire']\n",
    "\n",
    "plt.xlabel('Country')\n",
    "plt.ylabel('Wildfire')\n",
    "plt.bar(x,y)\n",
    "plt.show()"
   ]
  },
  {
   "cell_type": "code",
   "execution_count": 48,
   "id": "ce2831a8",
   "metadata": {},
   "outputs": [
    {
     "name": "stdout",
     "output_type": "stream",
     "text": [
      "<class 'pandas.core.frame.DataFrame'>\n",
      "Int64Index: 5 entries, 1 to 184\n",
      "Data columns (total 6 columns):\n",
      " #   Column       Non-Null Count  Dtype  \n",
      "---  ------       --------------  -----  \n",
      " 0   Country      5 non-null      object \n",
      " 1   Wildfire     5 non-null      float64\n",
      " 2   Storms       5 non-null      float64\n",
      " 3   Landslides   5 non-null      object \n",
      " 4   Earthquakes  5 non-null      object \n",
      " 5   Flood        5 non-null      float64\n",
      "dtypes: float64(3), object(3)\n",
      "memory usage: 280.0+ bytes\n"
     ]
    }
   ],
   "source": [
    "df['Storms'] = pd.to_numeric(df['Storms'],errors='coerce')\n",
    "df.info()"
   ]
  },
  {
   "cell_type": "code",
   "execution_count": 49,
   "id": "6590f9b8",
   "metadata": {},
   "outputs": [],
   "source": [
    "df = df.replace(np.nan, 0)"
   ]
  },
  {
   "cell_type": "code",
   "execution_count": 50,
   "id": "3d472925",
   "metadata": {},
   "outputs": [
    {
     "data": {
      "text/html": [
       "<div>\n",
       "<style scoped>\n",
       "    .dataframe tbody tr th:only-of-type {\n",
       "        vertical-align: middle;\n",
       "    }\n",
       "\n",
       "    .dataframe tbody tr th {\n",
       "        vertical-align: top;\n",
       "    }\n",
       "\n",
       "    .dataframe thead th {\n",
       "        text-align: right;\n",
       "    }\n",
       "</style>\n",
       "<table border=\"1\" class=\"dataframe\">\n",
       "  <thead>\n",
       "    <tr style=\"text-align: right;\">\n",
       "      <th></th>\n",
       "      <th>Country</th>\n",
       "      <th>Wildfire</th>\n",
       "      <th>Storms</th>\n",
       "      <th>Landslides</th>\n",
       "      <th>Earthquakes</th>\n",
       "      <th>Flood</th>\n",
       "    </tr>\n",
       "  </thead>\n",
       "  <tbody>\n",
       "    <tr>\n",
       "      <th>1</th>\n",
       "      <td>Africa</td>\n",
       "      <td>7.1</td>\n",
       "      <td>291.6</td>\n",
       "      <td>242.50</td>\n",
       "      <td>3.10</td>\n",
       "      <td>724.5</td>\n",
       "    </tr>\n",
       "    <tr>\n",
       "      <th>26</th>\n",
       "      <td>Brazil</td>\n",
       "      <td>0.0</td>\n",
       "      <td>0.4</td>\n",
       "      <td>3.00</td>\n",
       "      <td>0.00</td>\n",
       "      <td>161.6</td>\n",
       "    </tr>\n",
       "    <tr>\n",
       "      <th>40</th>\n",
       "      <td>China</td>\n",
       "      <td>5.2</td>\n",
       "      <td>159.3</td>\n",
       "      <td>274.70</td>\n",
       "      <td>421.90</td>\n",
       "      <td>622.7</td>\n",
       "    </tr>\n",
       "    <tr>\n",
       "      <th>148</th>\n",
       "      <td>Pakistan</td>\n",
       "      <td>0.0</td>\n",
       "      <td>13.8</td>\n",
       "      <td>21.20</td>\n",
       "      <td>79.20</td>\n",
       "      <td>484.5</td>\n",
       "    </tr>\n",
       "    <tr>\n",
       "      <th>184</th>\n",
       "      <td>South America</td>\n",
       "      <td>7.9</td>\n",
       "      <td>8.5</td>\n",
       "      <td>101.90</td>\n",
       "      <td>128.40</td>\n",
       "      <td>389.1</td>\n",
       "    </tr>\n",
       "  </tbody>\n",
       "</table>\n",
       "</div>"
      ],
      "text/plain": [
       "           Country  Wildfire  Storms Landslides Earthquakes  Flood\n",
       "1           Africa       7.1   291.6     242.50        3.10  724.5\n",
       "26          Brazil       0.0     0.4       3.00        0.00  161.6\n",
       "40           China       5.2   159.3     274.70      421.90  622.7\n",
       "148       Pakistan       0.0    13.8      21.20       79.20  484.5\n",
       "184  South America       7.9     8.5     101.90      128.40  389.1"
      ]
     },
     "execution_count": 50,
     "metadata": {},
     "output_type": "execute_result"
    }
   ],
   "source": [
    "df"
   ]
  },
  {
   "cell_type": "code",
   "execution_count": 51,
   "id": "1d43a9ca",
   "metadata": {},
   "outputs": [
    {
     "data": {
      "text/plain": [
       "26       0.4\n",
       "184      8.5\n",
       "148     13.8\n",
       "40     159.3\n",
       "1      291.6\n",
       "Name: Storms, dtype: float64"
      ]
     },
     "execution_count": 51,
     "metadata": {},
     "output_type": "execute_result"
    }
   ],
   "source": [
    "df['Storms'].sort_values()"
   ]
  },
  {
   "cell_type": "code",
   "execution_count": 52,
   "id": "5cc382fb",
   "metadata": {},
   "outputs": [
    {
     "data": {
      "image/png": "[encoded data removed]",
      "text/plain": [
       "<Figure size 432x288 with 1 Axes>"
      ]
     },
     "metadata": {
      "needs_background": "light"
     },
     "output_type": "display_data"
    }
   ],
   "source": [
    "x = df['Country']\n",
    "y = df['Storms']\n",
    "\n",
    "plt.xlabel('Country')\n",
    "plt.ylabel('Storms')\n",
    "plt.bar(x,y)\n",
    "plt.show()"
   ]
  },
  {
   "cell_type": "code",
   "execution_count": 53,
   "id": "a2c359aa",
   "metadata": {},
   "outputs": [
    {
     "name": "stdout",
     "output_type": "stream",
     "text": [
      "<class 'pandas.core.frame.DataFrame'>\n",
      "Int64Index: 5 entries, 1 to 184\n",
      "Data columns (total 6 columns):\n",
      " #   Column       Non-Null Count  Dtype  \n",
      "---  ------       --------------  -----  \n",
      " 0   Country      5 non-null      object \n",
      " 1   Wildfire     5 non-null      float64\n",
      " 2   Storms       5 non-null      float64\n",
      " 3   Landslides   5 non-null      float64\n",
      " 4   Earthquakes  5 non-null      object \n",
      " 5   Flood        5 non-null      float64\n",
      "dtypes: float64(4), object(2)\n",
      "memory usage: 280.0+ bytes\n"
     ]
    }
   ],
   "source": [
    "df['Landslides'] = pd.to_numeric(df['Landslides'],errors='coerce')\n",
    "df.info()"
   ]
  },
  {
   "cell_type": "code",
   "execution_count": 54,
   "id": "5af84108",
   "metadata": {},
   "outputs": [],
   "source": [
    "df = df.replace(np.nan, 0)"
   ]
  },
  {
   "cell_type": "code",
   "execution_count": 55,
   "id": "e50deea1",
   "metadata": {},
   "outputs": [
    {
     "data": {
      "text/html": [
       "<div>\n",
       "<style scoped>\n",
       "    .dataframe tbody tr th:only-of-type {\n",
       "        vertical-align: middle;\n",
       "    }\n",
       "\n",
       "    .dataframe tbody tr th {\n",
       "        vertical-align: top;\n",
       "    }\n",
       "\n",
       "    .dataframe thead th {\n",
       "        text-align: right;\n",
       "    }\n",
       "</style>\n",
       "<table border=\"1\" class=\"dataframe\">\n",
       "  <thead>\n",
       "    <tr style=\"text-align: right;\">\n",
       "      <th></th>\n",
       "      <th>Country</th>\n",
       "      <th>Wildfire</th>\n",
       "      <th>Storms</th>\n",
       "      <th>Landslides</th>\n",
       "      <th>Earthquakes</th>\n",
       "      <th>Flood</th>\n",
       "    </tr>\n",
       "  </thead>\n",
       "  <tbody>\n",
       "    <tr>\n",
       "      <th>1</th>\n",
       "      <td>Africa</td>\n",
       "      <td>7.1</td>\n",
       "      <td>291.6</td>\n",
       "      <td>242.5</td>\n",
       "      <td>3.10</td>\n",
       "      <td>724.5</td>\n",
       "    </tr>\n",
       "    <tr>\n",
       "      <th>26</th>\n",
       "      <td>Brazil</td>\n",
       "      <td>0.0</td>\n",
       "      <td>0.4</td>\n",
       "      <td>3.0</td>\n",
       "      <td>0.00</td>\n",
       "      <td>161.6</td>\n",
       "    </tr>\n",
       "    <tr>\n",
       "      <th>40</th>\n",
       "      <td>China</td>\n",
       "      <td>5.2</td>\n",
       "      <td>159.3</td>\n",
       "      <td>274.7</td>\n",
       "      <td>421.90</td>\n",
       "      <td>622.7</td>\n",
       "    </tr>\n",
       "    <tr>\n",
       "      <th>148</th>\n",
       "      <td>Pakistan</td>\n",
       "      <td>0.0</td>\n",
       "      <td>13.8</td>\n",
       "      <td>21.2</td>\n",
       "      <td>79.20</td>\n",
       "      <td>484.5</td>\n",
       "    </tr>\n",
       "    <tr>\n",
       "      <th>184</th>\n",
       "      <td>South America</td>\n",
       "      <td>7.9</td>\n",
       "      <td>8.5</td>\n",
       "      <td>101.9</td>\n",
       "      <td>128.40</td>\n",
       "      <td>389.1</td>\n",
       "    </tr>\n",
       "  </tbody>\n",
       "</table>\n",
       "</div>"
      ],
      "text/plain": [
       "           Country  Wildfire  Storms  Landslides Earthquakes  Flood\n",
       "1           Africa       7.1   291.6       242.5        3.10  724.5\n",
       "26          Brazil       0.0     0.4         3.0        0.00  161.6\n",
       "40           China       5.2   159.3       274.7      421.90  622.7\n",
       "148       Pakistan       0.0    13.8        21.2       79.20  484.5\n",
       "184  South America       7.9     8.5       101.9      128.40  389.1"
      ]
     },
     "execution_count": 55,
     "metadata": {},
     "output_type": "execute_result"
    }
   ],
   "source": [
    "df"
   ]
  },
  {
   "cell_type": "code",
   "execution_count": 56,
   "id": "f2374ca2",
   "metadata": {},
   "outputs": [
    {
     "data": {
      "text/plain": [
       "26     161.6\n",
       "184    389.1\n",
       "148    484.5\n",
       "40     622.7\n",
       "1      724.5\n",
       "Name: Flood, dtype: float64"
      ]
     },
     "execution_count": 56,
     "metadata": {},
     "output_type": "execute_result"
    }
   ],
   "source": [
    "df['Landslides'].sort_values()"
   ]
  },
  {
   "cell_type": "code",
   "execution_count": 57,
   "id": "8c62ec9d",
   "metadata": {},
   "outputs": [
    {
     "data": {
      "image/png": "[encoded data removed]",
      "text/plain": [
       "<Figure size 432x288 with 1 Axes>"
      ]
     },
     "metadata": {
      "needs_background": "light"
     },
     "output_type": "display_data"
    }
   ],
   "source": [
    "x = df['Country']\n",
    "y = df['Landslides']\n",
    "\n",
    "plt.xlabel('Country')\n",
    "plt.ylabel('Landslides')\n",
    "plt.bar(x,y)\n",
    "plt.show()"
   ]
  },
  {
   "cell_type": "code",
   "execution_count": 58,
   "id": "1f2eb41f",
   "metadata": {},
   "outputs": [
    {
     "name": "stdout",
     "output_type": "stream",
     "text": [
      "<class 'pandas.core.frame.DataFrame'>\n",
      "Int64Index: 5 entries, 1 to 184\n",
      "Data columns (total 6 columns):\n",
      " #   Column       Non-Null Count  Dtype  \n",
      "---  ------       --------------  -----  \n",
      " 0   Country      5 non-null      object \n",
      " 1   Wildfire     5 non-null      float64\n",
      " 2   Storms       5 non-null      float64\n",
      " 3   Landslides   5 non-null      float64\n",
      " 4   Earthquakes  5 non-null      float64\n",
      " 5   Flood        5 non-null      float64\n",
      "dtypes: float64(5), object(1)\n",
      "memory usage: 280.0+ bytes\n"
     ]
    }
   ],
   "source": [
    "df['Earthquakes'] = pd.to_numeric(df['Earthquakes'],errors='coerce')\n",
    "df.info()"
   ]
  },
  {
   "cell_type": "code",
   "execution_count": 59,
   "id": "4be1695a",
   "metadata": {},
   "outputs": [],
   "source": [
    "df = df.replace(np.nan, 0)"
   ]
  },
  {
   "cell_type": "code",
   "execution_count": 60,
   "id": "1be917e3",
   "metadata": {},
   "outputs": [
    {
     "data": {
      "text/html": [
       "<div>\n",
       "<style scoped>\n",
       "    .dataframe tbody tr th:only-of-type {\n",
       "        vertical-align: middle;\n",
       "    }\n",
       "\n",
       "    .dataframe tbody tr th {\n",
       "        vertical-align: top;\n",
       "    }\n",
       "\n",
       "    .dataframe thead th {\n",
       "        text-align: right;\n",
       "    }\n",
       "</style>\n",
       "<table border=\"1\" class=\"dataframe\">\n",
       "  <thead>\n",
       "    <tr style=\"text-align: right;\">\n",
       "      <th></th>\n",
       "      <th>Country</th>\n",
       "      <th>Wildfire</th>\n",
       "      <th>Storms</th>\n",
       "      <th>Landslides</th>\n",
       "      <th>Earthquakes</th>\n",
       "      <th>Flood</th>\n",
       "    </tr>\n",
       "  </thead>\n",
       "  <tbody>\n",
       "    <tr>\n",
       "      <th>1</th>\n",
       "      <td>Africa</td>\n",
       "      <td>7.1</td>\n",
       "      <td>291.6</td>\n",
       "      <td>242.5</td>\n",
       "      <td>3.1</td>\n",
       "      <td>724.5</td>\n",
       "    </tr>\n",
       "    <tr>\n",
       "      <th>26</th>\n",
       "      <td>Brazil</td>\n",
       "      <td>0.0</td>\n",
       "      <td>0.4</td>\n",
       "      <td>3.0</td>\n",
       "      <td>0.0</td>\n",
       "      <td>161.6</td>\n",
       "    </tr>\n",
       "    <tr>\n",
       "      <th>40</th>\n",
       "      <td>China</td>\n",
       "      <td>5.2</td>\n",
       "      <td>159.3</td>\n",
       "      <td>274.7</td>\n",
       "      <td>421.9</td>\n",
       "      <td>622.7</td>\n",
       "    </tr>\n",
       "    <tr>\n",
       "      <th>148</th>\n",
       "      <td>Pakistan</td>\n",
       "      <td>0.0</td>\n",
       "      <td>13.8</td>\n",
       "      <td>21.2</td>\n",
       "      <td>79.2</td>\n",
       "      <td>484.5</td>\n",
       "    </tr>\n",
       "    <tr>\n",
       "      <th>184</th>\n",
       "      <td>South America</td>\n",
       "      <td>7.9</td>\n",
       "      <td>8.5</td>\n",
       "      <td>101.9</td>\n",
       "      <td>128.4</td>\n",
       "      <td>389.1</td>\n",
       "    </tr>\n",
       "  </tbody>\n",
       "</table>\n",
       "</div>"
      ],
      "text/plain": [
       "           Country  Wildfire  Storms  Landslides  Earthquakes  Flood\n",
       "1           Africa       7.1   291.6       242.5          3.1  724.5\n",
       "26          Brazil       0.0     0.4         3.0          0.0  161.6\n",
       "40           China       5.2   159.3       274.7        421.9  622.7\n",
       "148       Pakistan       0.0    13.8        21.2         79.2  484.5\n",
       "184  South America       7.9     8.5       101.9        128.4  389.1"
      ]
     },
     "execution_count": 60,
     "metadata": {},
     "output_type": "execute_result"
    }
   ],
   "source": [
    "df"
   ]
  },
  {
   "cell_type": "code",
   "execution_count": 61,
   "id": "38786c61",
   "metadata": {},
   "outputs": [
    {
     "data": {
      "text/plain": [
       "26       0.0\n",
       "1        3.1\n",
       "148     79.2\n",
       "184    128.4\n",
       "40     421.9\n",
       "Name: Earthquakes, dtype: float64"
      ]
     },
     "execution_count": 61,
     "metadata": {},
     "output_type": "execute_result"
    }
   ],
   "source": [
    "df['Earthquakes'].sort_values()"
   ]
  },
  {
   "cell_type": "code",
   "execution_count": 62,
   "id": "043d6e9b",
   "metadata": {},
   "outputs": [
    {
     "data": {
      "image/png": "[encoded data removed]",
      "text/plain": [
       "<Figure size 432x288 with 1 Axes>"
      ]
     },
     "metadata": {
      "needs_background": "light"
     },
     "output_type": "display_data"
    }
   ],
   "source": [
    "x = df['Country']\n",
    "y = df['Earthquakes']\n",
    "\n",
    "plt.xlabel('Country')\n",
    "plt.ylabel('Earthquakes')\n",
    "plt.bar(x,y)\n",
    "plt.show()"
   ]
  },
  {
   "cell_type": "code",
   "execution_count": null,
   "id": "1dd3858a",
   "metadata": {},
   "outputs": [],
   "source": []
  }
 ],
 "metadata": {
  "kernelspec": {
   "display_name": "Python 3 (ipykernel)",
   "language": "python",
   "name": "python3"
  },
  "language_info": {
   "codemirror_mode": {
    "name": "ipython",
    "version": 3
   },
   "file_extension": ".py",
   "mimetype": "text/x-python",
   "name": "python",
   "nbconvert_exporter": "python",
   "pygments_lexer": "ipython3",
   "version": "3.9.7"
  }
 },
 "nbformat": 4,
 "nbformat_minor": 5
}
